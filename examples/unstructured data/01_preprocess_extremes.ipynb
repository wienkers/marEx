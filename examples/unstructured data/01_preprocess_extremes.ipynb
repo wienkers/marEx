{
 "cells": [
  {
   "cell_type": "markdown",
   "metadata": {},
   "source": [
    "# Pre-Process global _daily_ SST on _Native_ 5km Unstructured Grid using `MarEx Detect` to extract binary features"
   ]
  },
  {
   "cell_type": "markdown",
   "id": "a2d21965",
   "metadata": {},
   "source": [
    "## Steps:\n",
    "1. Compute Normalised Detrended Anomaly (cf. `detect.py::compute_normalised_anomaly()`)\n",
    "2. Identify Values Locally Exceeding the Prescribed Percentile Threshold (i.e. above 95th percentile) using new histogram-based parallel quantile calculation\n",
    "\n",
    "N.B.: Exploits parallelised `Dask` operations with optimised chunking using `flox` \\\n",
    "N.N.B.: This example using 40 years of Daily outputs at 5km resolution on an _Unstructured Grid_ (15 million cells) takes ~10 minutes on 512 cores"
   ]
  },
  {
   "cell_type": "code",
   "execution_count": null,
   "metadata": {},
   "outputs": [],
   "source": [
    "import xarray as xr\n",
    "import dask\n",
    "import intake\n",
    "from getpass import getuser\n",
    "from pathlib import Path\n",
    "\n",
    "import spot_the_blOb.hot_to_blOb as hot\n",
    "import spot_the_blOb.helper as hpc"
   ]
  },
  {
   "cell_type": "code",
   "execution_count": null,
   "id": "59a5e264",
   "metadata": {},
   "outputs": [],
   "source": [
    "# Start Distributed Dask Cluster\n",
    "client = hpc.StartDistributedCluster(n_workers=512, workers_per_node=64, runtime=20, node_memory=512)"
   ]
  },
  {
   "cell_type": "code",
   "execution_count": null,
   "id": "40d8061c",
   "metadata": {},
   "outputs": [],
   "source": [
    "# Import 40 years of Daily Native-Grid ICON data (ref. EERIE project)\n",
    "\n",
    "cat = intake.open_catalog(\"https://raw.githubusercontent.com/eerie-project/intake_catalogues/main/eerie.yaml\")\n",
    "expid = 'eerie-control-1950'\n",
    "version = 'v20240618'\n",
    "model = 'icon-esm-er'\n",
    "gridspec = 'native'\n",
    "\n",
    "dat = cat['dkrz.disk.model-output'][model][expid][version]['ocean'][gridspec]"
   ]
  },
  {
   "cell_type": "code",
   "execution_count": null,
   "id": "25d52604",
   "metadata": {},
   "outputs": [],
   "source": [
    "# Load the data directly into larger time chunks\n",
    "\n",
    "sst = dat['2d_daily_mean'](chunks={}).to_dask().to.isel(depth=0).chunk({'time':200,'ncells':'auto'})\n",
    "sst"
   ]
  },
  {
   "cell_type": "code",
   "execution_count": null,
   "id": "9fd3d196",
   "metadata": {},
   "outputs": [],
   "source": [
    "# Load the grid & neighbours\n",
    "\n",
    "grid2d = dat['2d_grid'](chunks={}).to_dask().rename({'cell':'ncells'})\n",
    "neighbours = grid2d.neighbor_cell_index.rename({'clat':'lat', 'clon':'lon'})\n",
    "areas = grid2d.cell_area.rename({'clat':'lat', 'clon':'lon'})"
   ]
  },
  {
   "cell_type": "code",
   "execution_count": null,
   "id": "389349a6",
   "metadata": {},
   "outputs": [],
   "source": [
    "# Process Data using `MarEx Detect` helper functions:\n",
    "\n",
    "extremes_ds = hot.preprocess_data(sst, \n",
    "                                std_normalise = False,            # Don't Standardise the data (this is standard)\n",
    "                                threshold_percentile = 95,        # Use the 95th percentile as the extremes threshold\n",
    "                                exact_percentile = False,         # Use a histogram-based method to estimate the percentile value (within 0.025C)\n",
    "                                dask_chunks = {'time': 2},        # Need to use smaller chunks in time to account for larger amount of spatial data\n",
    "                                neighbours = neighbours,          # Pass information about neighbours to be used in subsequent processing\n",
    "                                cell_areas = areas,               # Pass information about each Unstructured Grid's cell area (in metres) to be used in subsequent processing\n",
    "                                dimensions = {'time':'time', \n",
    "                                              'xdim':'ncells'})   # Not specifying 'ydim' tells MarEx that it is an Unstructured Grid\n",
    "extremes_ds"
   ]
  },
  {
   "cell_type": "code",
   "execution_count": null,
   "id": "18ca8342",
   "metadata": {},
   "outputs": [],
   "source": [
    "# Save data to `zarr` for more efficient paralledl I/O\n",
    "file_name = Path('/scratch') / getuser()[0] / getuser() / 'mhws' / 'extremes_binary_unstruct.zarr'\n",
    "extremes_ds.to_zarr(file_name, mode='w')"
   ]
  }
 ],
 "metadata": {
  "kernelspec": {
   "display_name": "Python 3 (ipykernel)",
   "language": "python",
   "name": "python3"
  },
  "language_info": {
   "codemirror_mode": {
    "name": "ipython",
    "version": 3
   },
   "file_extension": ".py",
   "mimetype": "text/x-python",
   "name": "python",
   "nbconvert_exporter": "python",
   "pygments_lexer": "ipython3",
   "version": "3.10.16"
  }
 },
 "nbformat": 4,
 "nbformat_minor": 5
}
