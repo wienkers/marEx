{
 "cells": [
  {
   "cell_type": "markdown",
   "metadata": {},
   "source": [
    "# Fun Visualisations of the Tracked Events using `plotX`"
   ]
  },
  {
   "cell_type": "code",
   "execution_count": 1,
   "metadata": {},
   "outputs": [],
   "source": [
    "import xarray as xr\n",
    "import numpy as np\n",
    "import dask\n",
    "import matplotlib.pyplot as plt\n",
    "from getpass import getuser\n",
    "from pathlib import Path\n",
    "\n",
    "import marEx\n",
    "import marEx.helper as hpc"
   ]
  },
  {
   "cell_type": "code",
   "execution_count": null,
   "id": "6dca36e2",
   "metadata": {},
   "outputs": [],
   "source": [
    "# Directories\n",
    "scratch_dir = Path('/scratch') / getuser()[0] / getuser() # Lustre Scratch Directory\n",
    "\n",
    "fpath_ckdtree = scratch_dir / 'grid_files' / 'ckdtree' / 'rectgrids'\n",
    "fpath_tgrid = scratch_dir / 'grid_files' / 'fpath_tgrid.zarr/'\n",
    "file_name = scratch_dir / 'mhws' / 'extreme_events_merged_unstruct.zarr'\n",
    "plot_dir  = scratch_dir / 'mhws' / 'plots'"
   ]
  },
  {
   "cell_type": "code",
   "execution_count": 2,
   "id": "7df4418b",
   "metadata": {},
   "outputs": [],
   "source": [
    "# Start Dask Cluster\n",
    "client = hpc.start_local_cluster(n_workers=32, threads_per_worker=1,\n",
    "                                 scratch_dir = scratch_dir / 'clients')  # Specify temporary scratch directory for dask to use"
   ]
  },
  {
   "cell_type": "code",
   "execution_count": 4,
   "id": "9a716f6c",
   "metadata": {},
   "outputs": [],
   "source": [
    "# Define the Structure of the Unstructured Grid (either the triangulation file or the cKDTree for the grid)\n",
    "\n",
    "marEx.specify_grid(grid_type='unstructured', fpath_ckdtree=fpath_ckdtree)"
   ]
  },
  {
   "cell_type": "code",
   "execution_count": 5,
   "metadata": {},
   "outputs": [],
   "source": [
    "# Import Tracked Extremes DataSet\n",
    "extreme_events_ds = xr.open_zarr(str(file_name), chunks={})\n",
    "extreme_events_ds"
   ]
  },
  {
   "cell_type": "code",
   "execution_count": 6,
   "id": "1957b80e",
   "metadata": {},
   "outputs": [],
   "source": [
    "# Extract the Events ID Field\n",
    "ID_field = extreme_events_ds.ID_field\n",
    "ID_field"
   ]
  },
  {
   "cell_type": "markdown",
   "id": "ee838b67",
   "metadata": {},
   "source": [
    "## Make a Movie using `Xplot.animate`\n",
    "N.B.: Making `dask`-powered movies using `animate()` cannot be threaded !"
   ]
  },
  {
   "cell_type": "code",
   "execution_count": null,
   "id": "04d15dfa",
   "metadata": {},
   "outputs": [],
   "source": [
    "# Choose a subset of the ID field\n",
    "ID_field_subset = ID_field.sel(time=slice('2025-01-01', '2027-01-01'))\n",
    "\n",
    "# Setup Plotting Configuration & Animate\n",
    "config = marEx.PlotConfig(plot_IDs=True)\n",
    "ID_field_subset.Xplot.animate(config, plot_dir=plot_dir, file_name='movie_ID_field_unstruct')"
   ]
  },
  {
   "cell_type": "code",
   "execution_count": null,
   "metadata": {},
   "outputs": [],
   "source": [
    "%%HTML\n",
    "<video width=\"640\" height=\"480\" controls>\n",
    "    <source src=\"../../media/movie_ID_field_unstruct.mp4\" type=\"video/mp4\">\n",
    "    Your browser does not support the video tag.\n",
    "</video>"
   ]
  },
  {
   "cell_type": "markdown",
   "id": "74a46047",
   "metadata": {},
   "source": [
    "cf. Centroid-based partitioning:"
   ]
  },
  {
   "cell_type": "code",
   "execution_count": null,
   "id": "b7e1fffd",
   "metadata": {},
   "outputs": [],
   "source": [
    "# Choose a subset of the ID field created with Centroid Partitioning\n",
    "ID_field_centroid_subset = xr.open_zarr(str(file_name).replace('merged', 'merged_centroid'), chunks={}).ID_field.sel(time=slice('2025-01-01', '2027-01-01'))\n",
    "\n",
    "# Setup Plotting Configuration & Animate\n",
    "config = marEx.PlotConfig(plot_IDs=True)\n",
    "ID_field_centroid_subset.plotX.animate(config, plot_dir=plot_dir, file_name='movie_ID_field_centroid_unstruct')"
   ]
  },
  {
   "cell_type": "markdown",
   "id": "a1d713c1",
   "metadata": {},
   "source": [
    "## Plot Consecutive Days of Extreme Events"
   ]
  },
  {
   "cell_type": "code",
   "execution_count": null,
   "id": "370b252d",
   "metadata": {},
   "outputs": [],
   "source": [
    "# Choose a subset of the ID field\n",
    "ID_field_subset = ID_field.sel(time=slice('2025-01-01', '2025-01-06'))\n",
    "\n",
    "# Setup Plotting Configuration\n",
    "config = marEx.PlotConfig(plot_IDs=True)\n",
    "fig, ax = ID_field_subset.Xplot.multi_plot(config, col='time', col_wrap=3);"
   ]
  },
  {
   "cell_type": "markdown",
   "id": "942d7003",
   "metadata": {},
   "source": [
    "## Plot Consecutive Months of Extreme Events"
   ]
  },
  {
   "cell_type": "code",
   "execution_count": null,
   "id": "230bab1f",
   "metadata": {},
   "outputs": [],
   "source": [
    "# Choose the first day of each month from a subset of the ID field\n",
    "ID_field_subset_day1 = ID_field.sel(time=slice('2025-01-01', '2025-12-31')).resample(time='MS').first()\n",
    "\n",
    "# Setup Plotting Configuration\n",
    "config = marEx.PlotConfig(plot_IDs=True)\n",
    "fig, ax = ID_field_subset_day1.Xplot.multi_plot(config, col='time', col_wrap=3);\n"
   ]
  },
  {
   "cell_type": "markdown",
   "id": "845ea6b3",
   "metadata": {},
   "source": [
    "## Plot Global Extreme Event Frequency"
   ]
  },
  {
   "cell_type": "code",
   "execution_count": null,
   "id": "bc6190f4",
   "metadata": {},
   "outputs": [],
   "source": [
    "# Calculate the frequency of Event Occurrence\n",
    "event_frequency = (ID_field > 0).astype(float).mean('time')\n",
    "\n",
    "# Setup Plotting Configuration\n",
    "config = marEx.PlotConfig(var_units='MHW Frequency', cmap='hot_r', cperc=[0,96], grid_labels=True)\n",
    "fig, ax = event_frequency.Xplot.single_plot(config)"
   ]
  },
  {
   "cell_type": "markdown",
   "id": "d28d6eed",
   "metadata": {},
   "source": [
    "## Plot Seasonal Extreme Event Frequency"
   ]
  },
  {
   "cell_type": "code",
   "execution_count": null,
   "id": "b7e24100",
   "metadata": {},
   "outputs": [],
   "source": [
    "# Calculate the frequency of Event Occurrence per season\n",
    "seasonal_frequency = (ID_field > 0).groupby('time.season').mean(dim='time')\n",
    "\n",
    "# Setup Plotting Configuration\n",
    "config = marEx.PlotConfig(var_units='MHW Frequency', cmap='hot_r', cperc=[0,96], grid_labels=True)\n",
    "fig, ax = seasonal_frequency.plotX.multi_plot(config, col='season', col_wrap=2);"
   ]
  },
  {
   "cell_type": "markdown",
   "id": "ceea3f4b",
   "metadata": {},
   "source": [
    "## Find & Plot a Few of the Longest Events"
   ]
  },
  {
   "cell_type": "code",
   "execution_count": null,
   "id": "fbc89219",
   "metadata": {},
   "outputs": [],
   "source": [
    "events_duration = extreme_events_ds.time_end - extreme_events_ds.time_start\n",
    "longest_events = events_duration.sortby(events_duration, ascending=False).ID\n",
    "\n",
    "for ID in longest_events[:10].values:\n",
    "    print(f\"ID: {ID:<6}   Start Day: {extreme_events_ds.time_start.sel(ID=ID).dt.strftime('%Y-%m-%d').values}  -->  Duration: {events_duration.sel(ID=ID).dt.days.values:<4} days\")"
   ]
  },
  {
   "cell_type": "code",
   "execution_count": null,
   "id": "4cd07017",
   "metadata": {},
   "outputs": [],
   "source": [
    "# Calculate the local duration of the longest events\n",
    "long_events = ID_field == (longest_events[:9]).chunk({'ID':1})\n",
    "long_events_local_duration = (long_events > 0).sum('time')\n",
    "\n",
    "# Setup Plotting Configuration\n",
    "config = marEx.PlotConfig(var_units='Duration (days)', cmap='hot_r', cperc=[0, 100])\n",
    "fig, ax = long_events_local_duration.Xplot.multi_plot(config, col='ID', col_wrap=3);"
   ]
  },
  {
   "cell_type": "markdown",
   "id": "bbb1a12d",
   "metadata": {},
   "source": [
    "## ID Maximum and Mean Event Area"
   ]
  },
  {
   "cell_type": "code",
   "execution_count": null,
   "id": "ac6aa683",
   "metadata": {},
   "outputs": [],
   "source": [
    "\n",
    "areas_max = extreme_events_ds.area.max().compute() / (1.e3**2)\n",
    "print(f'Maximum object area: {areas_max.values:.0f} km²')\n",
    "\n",
    "areas_mean = extreme_events_ds.area.mean().compute() / (1.e3**2)\n",
    "print(f'Mean object area: {areas_mean.values:.0f} km²')"
   ]
  },
  {
   "cell_type": "markdown",
   "id": "d851ade8",
   "metadata": {},
   "source": [
    "## Time-Series Plot of Events Area"
   ]
  },
  {
   "cell_type": "code",
   "execution_count": null,
   "id": "18b65d3d",
   "metadata": {},
   "outputs": [],
   "source": [
    "\n",
    "area_mean = extreme_events_ds.area.mean('ID').resample(time='ME').mean() / (1.e3**2)\n",
    "\n",
    "area_10 = extreme_events_ds.area.reduce(np.nanpercentile, q=10, dim='ID').resample(time='ME').mean() / (1.e3**2)\n",
    "area_90 = extreme_events_ds.area.reduce(np.nanpercentile, q=90, dim='ID').resample(time='ME').mean() / (1.e3**2)\n",
    "\n",
    "plt.figure(figsize=(15, 6))\n",
    "area_mean.plot(label='Mean Area', color='k', lw=2)\n",
    "plt.fill_between(area_mean.time.values, area_10, area_90, alpha=0.5)\n",
    "plt.ylim([0, 8e7])\n",
    "plt.ylabel(r'Event Area [km$^2$]');"
   ]
  },
  {
   "cell_type": "markdown",
   "id": "15e99905",
   "metadata": {},
   "source": [
    "## Hovmüller Plot of MHW Monthly Frequency vs Latitude\n",
    "We need to first bin the unstructured data in latitude."
   ]
  },
  {
   "cell_type": "code",
   "execution_count": null,
   "id": "2b5c29d6",
   "metadata": {},
   "outputs": [],
   "source": [
    "# Group by latitude bins and calculate mean within each bin\n",
    "lat_bins = np.linspace(-90., 90., 360 + 1)\n",
    "binned_presence = (ID_field > 0).groupby_bins(ID_field.lat, bins=lat_bins).mean(dim='ncells')\n",
    "\n",
    "# Calculate bin centers for better labelling\n",
    "bin_centers = [(lat_bins[i] + lat_bins[i+1])/2 for i in range(len(lat_bins)-1)]\n",
    "binned_presence = binned_presence.assign_coords(lat_center=('lat_bins', bin_centers))\n",
    "\n",
    "# Resample in time to get monthly means\n",
    "spatial_presence = binned_presence.resample(time='ME').mean()\n",
    "\n",
    "fig, ax = plt.subplots(figsize=(15, 6))\n",
    "im = spatial_presence.plot(ax=ax, cmap='hot', x='time', y='lat_center',\n",
    "    cbar_kwargs={\n",
    "        'label': 'MHW Presence Frequency',\n",
    "        'extend': 'both'})\n",
    "\n",
    "ax.set_xlabel('Time')\n",
    "ax.set_ylabel('Latitude')\n",
    "ax.grid(True, linestyle='--', alpha=0.6)"
   ]
  },
  {
   "cell_type": "markdown",
   "id": "8b13c72d",
   "metadata": {},
   "source": [
    "## Seasonal Cycle of MHW vs Latitude\n",
    "We again need to bin the unstructured data in latitude. (Reuse the `binned_presence` from above.)"
   ]
  },
  {
   "cell_type": "code",
   "execution_count": null,
   "id": "4d1a09a1",
   "metadata": {},
   "outputs": [],
   "source": [
    "spatial_presence_seasonal = binned_presence.groupby('time.dayofyear').mean()\n",
    "\n",
    "fig, ax = plt.subplots(figsize=(15, 6))\n",
    "im = spatial_presence_seasonal.plot(ax=ax, cmap='hot', x='dayofyear', y='lat_center',\n",
    "    cbar_kwargs={\n",
    "        'label': 'MHW Seasonal Frequency',\n",
    "        'extend': 'both'})\n",
    "\n",
    "months = ['Jan', 'Feb', 'Mar', 'Apr', 'May', 'Jun', \n",
    "          'Jul', 'Aug', 'Sep', 'Oct', 'Nov', 'Dec']\n",
    "days_per_month = [31, 28, 31, 30, 31, 30, 31, 31, 30, 31, 30, 31]\n",
    "month_positions = np.cumsum([0] + days_per_month[:-1]) + 15\n",
    "\n",
    "ax.set_xticks(month_positions)\n",
    "ax.set_xticklabels(months)\n",
    "ax.set_xlabel('Month')\n",
    "ax.set_ylabel('Latitude')\n",
    "ax.grid(True, linestyle='--', alpha=0.6)\n"
   ]
  }
 ],
 "metadata": {
  "kernelspec": {
   "display_name": "Python 3 (ipykernel)",
   "language": "python",
   "name": "python3"
  }
 },
 "nbformat": 4,
 "nbformat_minor": 5
}
