{
 "cells": [
  {
   "cell_type": "markdown",
   "id": "5b7d3a1a",
   "metadata": {},
   "source": [
    "# Global Daily Event Analysis: Marine Heatwave ID & Tracking using `MarEx`"
   ]
  },
  {
   "cell_type": "markdown",
   "id": "77f3083b",
   "metadata": {},
   "source": [
    "### `MarEx` Processing Pipeline for Gridded Datasets:\n",
    "\n",
    "1. **Morphological Pre-Processing**\n",
    "    - Performs binary morphological closing using `dask_image.ndmorph` to fill small spatial holes up to `R_fill` cells in radius \n",
    "    - Executes binary opening to remove isolated small features of order `R_fill`\n",
    "    - Fills gaps in time to maintain event continuity for interruptions up to `T_fill` time steps\n",
    "    - Filters out smallest objects below the `area_filter_quartile` percentile threshold\n",
    "\n",
    "2. **Blob Identification**\n",
    "    - Labels spatially connected components using efficient connected-component algorithm in `dask_image.ndmeasure`\n",
    "    - Computes blob properties (area, centroid, boundaries)\n",
    "\n",
    "3. **Temporal Tracking**\n",
    "    - Identifies blob overlaps between consecutive time frames\n",
    "    - Connects objects across time, applying the following criteria for splitting, merging, & persistence:\n",
    "        - Connected objects must overlap by at least fraction `overlap_threshold` of the smaller area\n",
    "        - Merged objects retain their original ID, but partition the child area based on the parent of the _nearest-neighbour_ cell (or centroid distance)\n",
    "\n",
    "4. **Graph Reduction & Finalisation**\n",
    "    - Constructs the complete temporal graph of object evolution through time\n",
    "    - Resolves object connectivity graph using `scipy.sparse.csgraph.connected_components`\n",
    "    - Creates globally unique IDs for each tracked extreme event\n",
    "    - Maps objects into efficient ID-time space for convenient analysis\n",
    "    - Computes comprehensive statistics about the lifecycle of each event\n",
    "\n",
    "The pipeline leverages **dask** for distributed parallel computation, enabling efficient processing of large datasets. \\\n",
    "A 40-year global daily analysis at 0.25° resolution on 32 cores takes\n",
    "- Basic (i.e. Scannell et al., which involves no merge/split criteria or tracking):  ~5 minutes\n",
    "- Full Split/Merge Thresholding & Merge Tracking:  ~40 minutes"
   ]
  },
  {
   "cell_type": "code",
   "execution_count": null,
   "id": "6b337539",
   "metadata": {},
   "outputs": [],
   "source": [
    "import xarray as xr\n",
    "import dask\n",
    "from getpass import getuser\n",
    "from pathlib import Path\n",
    "\n",
    "import marEx\n",
    "import marEx.helper as hpc"
   ]
  },
  {
   "cell_type": "code",
   "execution_count": null,
   "id": "310fd2ef",
   "metadata": {},
   "outputs": [],
   "source": [
    "# Start Dask Cluster\n",
    "client = hpc.start_local_cluster(n_workers=32, n_threads=1)"
   ]
  },
  {
   "cell_type": "code",
   "execution_count": null,
   "id": "66a21e23-427a-4f6f-9a91-fa2ae628f148",
   "metadata": {
    "notebookRunGroups": {
     "groupValue": "1"
    },
    "tags": []
   },
   "outputs": [],
   "source": [
    "# Load Pre-processed Data (cf. `01_preprocess_extremes.ipynb`)\n",
    "\n",
    "file_name = Path('/scratch') / getuser()[0] / getuser() / 'mhws' / 'extremes_binary_gridded.zarr'\n",
    "chunk_size = {'time': 25, 'lat': -1, 'lon': -1}  # Adjust chunksize depending on system memory (needs to be globally-chunked in space)\n",
    "ds = xr.open_zarr(str(file_name), chunks=chunk_size)"
   ]
  },
  {
   "cell_type": "code",
   "execution_count": null,
   "id": "eb7934cc",
   "metadata": {},
   "outputs": [],
   "source": [
    "# Run ID, Tracking, & Merging\n",
    "\n",
    "tracker = marEx.tracker(ds.extreme_events, \n",
    "                       ds.mask.where((ds.lat < 85) &\n",
    "                                     (ds.lat > -90), other=False),  # Modify Mask: Anisotropy of the lat/lon grid near the poles biases the ID & Tracking\n",
    "                       area_filter_quartile = 0.5,                  # Remove the smallest 50% of the identified coherent extreme areas\n",
    "                       R_fill = 8,                                  # Fill small holes with radius < 8 _cells_\n",
    "                       T_fill = 2,                                  # Allow gaps of 2 days and still continue the event tracking with the same ID\n",
    "                       allow_merging = True,                        # Allow extreme events to split/merge. Keeps track of merge events & unique IDs.\n",
    "                       overlap_threshold = 0.5,                     # Overlap threshold for merging events. If overlap < threshold, events keep independent IDs.\n",
    "                       nn_partitioning = True,                      # Use new NN method to partition merged children areas. If False, reverts to old method of Di Sun et al. 2023.\n",
    "                       verbosity=1)                                 # Choose Verbosity Level (0=None, 1=Basic, 2=Advanced/Timing)\n",
    "\n",
    "extreme_events_ds = tracker.run(return_merges=True)\n",
    "extreme_events_ds"
   ]
  },
  {
   "cell_type": "code",
   "execution_count": null,
   "id": "c88a6d6a",
   "metadata": {},
   "outputs": [],
   "source": [
    "# Save IDed/Tracked/Merged Events to `zarr` for more efficient parallel I/O\n",
    "\n",
    "file_name = Path('/scratch') / getuser()[0] / getuser() / 'mhws' / 'extreme_events_merged_gridded.zarr'\n",
    "extreme_events_ds.to_zarr(file_name, mode='w')"
   ]
  },
  {
   "cell_type": "markdown",
   "id": "24e58351",
   "metadata": {},
   "source": [
    "### Run Basic Tracking for Comparison\n",
    "N.B.: This is the current standard method used in the literature, which involves _No_ merging/splitting and _No_ independent event tracking."
   ]
  },
  {
   "cell_type": "code",
   "execution_count": null,
   "id": "aaf347d6",
   "metadata": {},
   "outputs": [],
   "source": [
    "# Run Basic Tracking\n",
    "\n",
    "tracker = blob.Spotter(ds.extreme_events, \n",
    "                       ds.mask.where((ds.lat < 85) &\n",
    "                                     (ds.lat > -90), other=False),  # Modify Mask: Anisotropy of the lat/lon grid near the poles biases the ID & Tracking\n",
    "                       area_filter_quartile = 0.5,                  # Remove the smallest 50% of the identified coherent extreme areas\n",
    "                       R_fill = 8,                                  # Fill small holes with radius < 8 _cells_\n",
    "                       T_fill = 0,                                  # No temporal hole filling\n",
    "                       allow_merging = False,                       # Do not allow extreme events to split/merge. All touching events adopt the same ID forever.\n",
    "                       verbosity=1)\n",
    "\n",
    "extreme_events_basic_ds = tracker.run()\n",
    "extreme_events_basic_ds"
   ]
  },
  {
   "cell_type": "code",
   "execution_count": null,
   "id": "44f3d1cd",
   "metadata": {},
   "outputs": [],
   "source": [
    "# Save IDed Events to `zarr` for more efficient parallel I/O\n",
    "\n",
    "file_name = Path('/scratch') / getuser()[0] / getuser() / 'mhws' / 'extreme_events_basic_gridded.zarr'\n",
    "extreme_events_basic_ds.to_zarr(file_name, mode='w')"
   ]
  }
 ],
 "metadata": {
  "kernelspec": {
   "display_name": "Python 3 (ipykernel)",
   "language": "python",
   "name": "python3"
  },
  "language_info": {
   "codemirror_mode": {
    "name": "ipython",
    "version": 3
   },
   "file_extension": ".py",
   "mimetype": "text/x-python",
   "name": "python",
   "nbconvert_exporter": "python",
   "pygments_lexer": "ipython3",
   "version": "3.10.15"
  }
 },
 "nbformat": 4,
 "nbformat_minor": 5
}
