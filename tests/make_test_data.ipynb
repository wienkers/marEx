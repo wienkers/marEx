{
 "cells": [
  {
   "cell_type": "markdown",
   "metadata": {},
   "source": [
    "# Generate Test Data"
   ]
  },
  {
   "cell_type": "code",
   "execution_count": null,
   "id": "212b5caf",
   "metadata": {},
   "outputs": [],
   "source": [
    "import xarray as xr\n",
    "import numpy as np\n",
    "import dask\n",
    "import intake\n",
    "from getpass import getuser\n",
    "from pathlib import Path\n",
    "\n",
    "import marEx\n",
    "import marEx.helper as hpc"
   ]
  },
  {
   "cell_type": "code",
   "execution_count": null,
   "id": "76cf1f13",
   "metadata": {},
   "outputs": [],
   "source": [
    "# Lustre Scratch Directory\n",
    "scratch_dir = Path('/scratch') / getuser()[0] / getuser()\n",
    "save_dir = Path('/home') / getuser()[0] / getuser() / 'opt' / 'marEx' / 'tests' / 'data'"
   ]
  },
  {
   "cell_type": "code",
   "execution_count": null,
   "id": "618b03f9",
   "metadata": {},
   "outputs": [
    {
     "name": "stderr",
     "output_type": "stream",
     "text": [
      "2025-06-27 11:39:31,250 - distributed.scheduler - WARNING - Removing worker 'tcp://127.0.0.1:34833' caused the cluster to lose already computed task(s), which will be recomputed elsewhere: {('any-aggregate-e47cb6623be3b61b52b0aaf0cbe1057e', 0, 0)} (stimulus_id='handle-worker-cleanup-1751017171.250846')\n",
      "2025-06-27 11:39:31,257 - distributed.scheduler - WARNING - Removing worker 'tcp://127.0.0.1:33261' caused the cluster to lose already computed task(s), which will be recomputed elsewhere: {('rechunk-merge-4c300c227b6f6f73fd5c6bef03f284f7', 4, 0, 0), ('rechunk-merge-4c300c227b6f6f73fd5c6bef03f284f7', 9, 0, 0), ('rechunk-merge-4c300c227b6f6f73fd5c6bef03f284f7', 8, 0, 0), ('rechunk-merge-4c300c227b6f6f73fd5c6bef03f284f7', 1, 0, 0), ('rechunk-merge-4c300c227b6f6f73fd5c6bef03f284f7', 6, 0, 0), ('rechunk-merge-4c300c227b6f6f73fd5c6bef03f284f7', 0, 0, 0), ('rechunk-merge-4c300c227b6f6f73fd5c6bef03f284f7', 2, 0, 0), ('rechunk-merge-4c300c227b6f6f73fd5c6bef03f284f7', 5, 0, 0), ('rechunk-merge-4c300c227b6f6f73fd5c6bef03f284f7', 10, 0, 0), ('rechunk-merge-4c300c227b6f6f73fd5c6bef03f284f7', 3, 0, 0), ('rechunk-merge-4c300c227b6f6f73fd5c6bef03f284f7', 7, 0, 0)} (stimulus_id='handle-worker-cleanup-1751017171.2569196')\n",
      "2025-06-27 11:39:31,258 - distributed.scheduler - WARNING - Removing worker 'tcp://127.0.0.1:42359' caused the cluster to lose already computed task(s), which will be recomputed elsewhere: {('rechunk-merge-4c300c227b6f6f73fd5c6bef03f284f7', 11, 0, 0), ('rechunk-merge-4c300c227b6f6f73fd5c6bef03f284f7', 13, 0, 0), ('rechunk-merge-4c300c227b6f6f73fd5c6bef03f284f7', 15, 0, 0), ('rechunk-merge-4c300c227b6f6f73fd5c6bef03f284f7', 12, 0, 0), ('rechunk-merge-4c300c227b6f6f73fd5c6bef03f284f7', 14, 0, 0)} (stimulus_id='handle-worker-cleanup-1751017171.2587645')\n"
     ]
    }
   ],
   "source": [
    "# Start Dask Cluster\n",
    "client = hpc.start_local_cluster(n_workers=32, threads_per_worker=1,\n",
    "                                 scratch_dir = scratch_dir / 'clients')  # Specify temporary scratch directory for dask to use"
   ]
  },
  {
   "cell_type": "markdown",
   "id": "1125a04b",
   "metadata": {},
   "source": [
    "# Raw SST Data"
   ]
  },
  {
   "cell_type": "code",
   "execution_count": null,
   "id": "8bc76bab",
   "metadata": {},
   "outputs": [],
   "source": [
    "cat = intake.open_catalog(\"https://raw.githubusercontent.com/eerie-project/intake_catalogues/main/eerie.yaml\")"
   ]
  },
  {
   "cell_type": "code",
   "execution_count": null,
   "id": "7c9a16ce",
   "metadata": {},
   "outputs": [],
   "source": [
    "# Import 40 years of OSTIA Observations\n",
    "dat_regrid = cat['dkrz.disk.observations.OSTIA.OSTIA.daily']\n",
    "sst_regrid = dat_regrid(chunks={}).to_dask().sst.astype(np.float32).coarsen(lat=5,lon=5).mean().rename('to')\n",
    "sst_regrid"
   ]
  },
  {
   "cell_type": "code",
   "execution_count": null,
   "id": "40d8061c",
   "metadata": {},
   "outputs": [],
   "source": [
    "# Import 40 years of Daily ICON data (ref. EERIE project)\n",
    "dat_native = cat['dkrz.disk.model-output.icon-esm-er.eerie-control-1950.v20240618']['ocean']['native']\n",
    "sst_native = dat_native['2d_daily_mean'](chunks={}).to_dask().to.isel(depth=0).drop_vars({'depth','cell_sea_land_mask'}).chunk({'time':32})\n",
    "sst_native"
   ]
  },
  {
   "cell_type": "code",
   "execution_count": null,
   "id": "799b7a18",
   "metadata": {},
   "outputs": [],
   "source": [
    "# Define subset\n",
    "time_slice_ostia = slice('1982-01-01', '2022-01-01')\n",
    "time_slice_icon = slice('1991-01-01', '2031-01-01')\n",
    "regrid_slice_ostia = dict(lat=slice(35, 40), lon=slice(-40, -30))\n",
    "native_slice_icon = slice(0,1000)"
   ]
  },
  {
   "cell_type": "code",
   "execution_count": null,
   "id": "668fb398",
   "metadata": {},
   "outputs": [],
   "source": [
    "sst_regrid_slice = sst_regrid.sel(time=time_slice_ostia, **regrid_slice_ostia).chunk({'time':30, 'lat':-1,'lon':-1})\n",
    "sst_regrid_slice"
   ]
  },
  {
   "cell_type": "code",
   "execution_count": null,
   "id": "fc1841dd",
   "metadata": {},
   "outputs": [],
   "source": [
    "sst_native_slice = sst_native.sel(time=time_slice_icon).isel(ncells=native_slice_icon).drop_vars({'lat','lon'})\n",
    "sst_native_slice"
   ]
  },
  {
   "cell_type": "code",
   "execution_count": null,
   "id": "f5062d75",
   "metadata": {},
   "outputs": [],
   "source": [
    "# Save to Zarr\n",
    "sst_regrid_slice.to_zarr(save_dir / 'sst_gridded.zarr', mode='w')\n",
    "sst_native_slice.to_zarr(save_dir / 'sst_unstructured.zarr', mode='w')"
   ]
  },
  {
   "cell_type": "markdown",
   "id": "3a66b2d3",
   "metadata": {},
   "source": [
    "# Pre-processed Data"
   ]
  },
  {
   "cell_type": "code",
   "execution_count": null,
   "id": "acc21e3a",
   "metadata": {},
   "outputs": [],
   "source": [
    "time_slice = slice('2010-01-01', '2010-02-01')\n",
    "extremes_ds = xr.open_zarr(scratch_dir / 'mhws' / 'extremes_binary_gridded_shifting_hobday.zarr', chunks={}).sel(time=time_slice).drop_vars({'thresholds','dat_anomaly','dayofyear'})\n",
    "extremes_ds"
   ]
  },
  {
   "cell_type": "code",
   "execution_count": null,
   "id": "c0717987",
   "metadata": {},
   "outputs": [],
   "source": [
    "# Coarsen extremes_ds (lat & lon)\n",
    "extremes_ds_coarsen = extremes_ds.coarsen(lat=4, lon=4, boundary='trim').any().chunk({'time': 2, 'lat':-1, 'lon':-1}).persist()\n",
    "extremes_ds_coarsen"
   ]
  },
  {
   "cell_type": "code",
   "execution_count": null,
   "id": "764d5d39",
   "metadata": {},
   "outputs": [],
   "source": [
    "# Clear encoding so we can write to Zarr\n",
    "extremes_ds_coarsen.encoding = {}\n",
    "for var in extremes_ds_coarsen.data_vars:\n",
    "\textremes_ds_coarsen[var].encoding = {}"
   ]
  },
  {
   "cell_type": "code",
   "execution_count": null,
   "id": "c1b2083a",
   "metadata": {},
   "outputs": [],
   "source": [
    "extremes_ds_coarsen.to_zarr(save_dir / 'extremes_gridded.zarr', mode='w')"
   ]
  }
 ],
 "metadata": {
  "kernelspec": {
   "display_name": "py310 (ipykernel)",
   "language": "python",
   "name": "python3"
  },
  "language_info": {
   "codemirror_mode": {
    "name": "ipython",
    "version": 3
   },
   "file_extension": ".py",
   "mimetype": "text/x-python",
   "name": "python",
   "nbconvert_exporter": "python",
   "pygments_lexer": "ipython3",
   "version": "3.10.17"
  }
 },
 "nbformat": 4,
 "nbformat_minor": 5
}
