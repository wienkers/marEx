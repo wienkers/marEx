{
 "cells": [
  {
   "cell_type": "markdown",
   "metadata": {},
   "source": [
    "# Generate Test Data"
   ]
  },
  {
   "cell_type": "code",
   "execution_count": null,
   "id": "212b5caf",
   "metadata": {},
   "outputs": [],
   "source": [
    "import xarray as xr\n",
    "import numpy as np\n",
    "import dask\n",
    "import intake\n",
    "from getpass import getuser\n",
    "from pathlib import Path\n",
    "\n",
    "import marEx\n",
    "import marEx.helper as hpc"
   ]
  },
  {
   "cell_type": "code",
   "execution_count": null,
   "id": "76cf1f13",
   "metadata": {},
   "outputs": [],
   "source": [
    "# Lustre Scratch Directory\n",
    "scratch_dir = Path('/scratch') / getuser()[0] / getuser()\n",
    "save_dir = Path('/home') / getuser()[0] / getuser() / 'opt' / 'marEx' / 'tests' / 'data'"
   ]
  },
  {
   "cell_type": "code",
   "execution_count": null,
   "id": "618b03f9",
   "metadata": {},
   "outputs": [],
   "source": [
    "# Start Dask Cluster\n",
    "client = hpc.start_local_cluster(n_workers=32, threads_per_worker=1,\n",
    "                                 scratch_dir = scratch_dir / 'clients')  # Specify temporary scratch directory for dask to use"
   ]
  },
  {
   "cell_type": "markdown",
   "id": "1125a04b",
   "metadata": {},
   "source": [
    "# Raw SST Data"
   ]
  },
  {
   "cell_type": "code",
   "execution_count": null,
   "id": "40d8061c",
   "metadata": {},
   "outputs": [],
   "source": [
    "# Import 40 years of Daily ICON data (ref. EERIE project)\n",
    "\n",
    "cat = intake.open_catalog(\"https://raw.githubusercontent.com/eerie-project/intake_catalogues/main/eerie.yaml\")\n",
    "expid = 'eerie-control-1950'\n",
    "version = 'v20240618'\n",
    "model = 'icon-esm-er'\n",
    "\n",
    "dat_regrid = cat['dkrz.disk.model-output'][model][expid][version]['ocean']['gr025']\n",
    "dat_native = cat['dkrz.disk.model-output'][model][expid][version]['ocean']['native']"
   ]
  },
  {
   "cell_type": "code",
   "execution_count": null,
   "id": "73c74109",
   "metadata": {},
   "outputs": [],
   "source": [
    "# Load Data\n",
    "sst_regrid = dat_regrid['2d_daily_mean'](chunks={}).to_dask().to.isel(depth=0).drop_vars('depth')\n",
    "sst_native = dat_native['2d_daily_mean'](chunks={}).to_dask().to.isel(depth=0).drop_vars({'depth','cell_sea_land_mask'}).chunk({'time':32})"
   ]
  },
  {
   "cell_type": "code",
   "execution_count": null,
   "id": "799b7a18",
   "metadata": {},
   "outputs": [],
   "source": [
    "# Define subset\n",
    "time_slice = slice('1991-01-01', '2030-01-01')\n",
    "regrid_slice = dict(lat=slice(35, 40), lon=slice(320, 330))\n",
    "native_slice = slice(0,1000)"
   ]
  },
  {
   "cell_type": "code",
   "execution_count": null,
   "id": "668fb398",
   "metadata": {},
   "outputs": [],
   "source": [
    "sst_regrid_slice = sst_regrid.sel(time=time_slice, **regrid_slice)\n",
    "sst_native_slice = sst_native.sel(time=time_slice).isel(ncells=native_slice).drop_vars({'lat','lon'})"
   ]
  },
  {
   "cell_type": "code",
   "execution_count": null,
   "id": "fc1841dd",
   "metadata": {},
   "outputs": [],
   "source": [
    "sst_regrid_slice"
   ]
  },
  {
   "cell_type": "code",
   "execution_count": null,
   "id": "dd547cfd",
   "metadata": {},
   "outputs": [],
   "source": [
    "sst_native_slice"
   ]
  },
  {
   "cell_type": "code",
   "execution_count": null,
   "id": "f5062d75",
   "metadata": {},
   "outputs": [],
   "source": [
    "# Save to Zarr\n",
    "sst_regrid_slice.to_zarr(save_dir / 'sst_gridded.zarr', mode='w')\n",
    "sst_native_slice.to_zarr(save_dir / 'sst_unstructured.zarr', mode='w')"
   ]
  },
  {
   "cell_type": "markdown",
   "id": "3a66b2d3",
   "metadata": {},
   "source": [
    "# Pre-processed Data"
   ]
  },
  {
   "cell_type": "code",
   "execution_count": null,
   "id": "acc21e3a",
   "metadata": {},
   "outputs": [],
   "source": [
    "time_slice = slice('2010-01-01', '2010-02-01')\n",
    "extremes_ds = xr.open_zarr(scratch_dir / 'mhws' / 'extremes_binary_gridded_shifting.zarr', chunks={}).sel(time=time_slice).drop_vars({'thresholds','dat_detrend','dayofyear'})"
   ]
  },
  {
   "cell_type": "code",
   "execution_count": null,
   "id": "c154a6f1",
   "metadata": {},
   "outputs": [],
   "source": [
    "extremes_ds"
   ]
  },
  {
   "cell_type": "code",
   "execution_count": null,
   "id": "c0717987",
   "metadata": {},
   "outputs": [],
   "source": [
    "# Coarsen extremes_ds (lat & lon)\n",
    "extremes_ds_coarsen = extremes_ds.coarsen(lat=4, lon=4, boundary='trim').any().chunk({'time': 2, 'lat':-1, 'lon':-1}).persist()\n",
    "extremes_ds_coarsen"
   ]
  },
  {
   "cell_type": "code",
   "execution_count": null,
   "id": "764d5d39",
   "metadata": {},
   "outputs": [],
   "source": [
    "extremes_ds_coarsen = extremes_ds_coarsen.compute()\n",
    "extremes_ds_coarsen = extremes_ds_coarsen.chunk({'time':2, 'lat':-1, 'lon':-1})\n",
    "# Clear encoding\n",
    "extremes_ds_coarsen.encoding = {}\n",
    "for var in extremes_ds_coarsen.data_vars:\n",
    "\textremes_ds_coarsen[var].encoding = {}"
   ]
  },
  {
   "cell_type": "code",
   "execution_count": null,
   "id": "c1b2083a",
   "metadata": {},
   "outputs": [],
   "source": [
    "extremes_ds_coarsen.to_zarr(save_dir / 'extremes_gridded.zarr', mode='w')"
   ]
  }
 ],
 "metadata": {
  "kernelspec": {
   "display_name": "py310 (ipykernel)",
   "language": "python",
   "name": "python3"
  },
  "language_info": {
   "codemirror_mode": {
    "name": "ipython",
    "version": 3
   },
   "file_extension": ".py",
   "mimetype": "text/x-python",
   "name": "python",
   "nbconvert_exporter": "python",
   "pygments_lexer": "ipython3",
   "version": "3.10.17"
  }
 },
 "nbformat": 4,
 "nbformat_minor": 5
}
