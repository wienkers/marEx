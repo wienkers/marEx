{
 "cells": [
  {
   "cell_type": "markdown",
   "metadata": {},
   "source": [
    "# Generate Test Data"
   ]
  },
  {
   "cell_type": "code",
   "execution_count": 1,
   "id": "212b5caf",
   "metadata": {},
   "outputs": [],
   "source": [
    "from getpass import getuser\n",
    "from pathlib import Path\n",
    "\n",
    "import dask\n",
    "import intake\n",
    "import numpy as np\n",
    "import xarray as xr\n",
    "\n",
    "import marEx\n",
    "import marEx.helper as hpc"
   ]
  },
  {
   "cell_type": "code",
   "execution_count": 2,
   "id": "76cf1f13",
   "metadata": {},
   "outputs": [],
   "source": [
    "# Lustre Scratch Directory\n",
    "scratch_dir = Path(\"/scratch\") / getuser()[0] / getuser()\n",
    "save_dir = Path(\"/home\") / getuser()[0] / getuser() / \"opt\" / \"marEx\" / \"tests\" / \"data\""
   ]
  },
  {
   "cell_type": "code",
   "execution_count": 3,
   "id": "618b03f9",
   "metadata": {},
   "outputs": [],
   "source": [
    "# Start Dask Cluster\n",
    "client = hpc.start_local_cluster(\n",
    "    n_workers=16, threads_per_worker=1, scratch_dir=scratch_dir / \"clients\"\n",
    ")  # Specify temporary scratch directory for dask to use"
   ]
  },
  {
   "cell_type": "markdown",
   "id": "1125a04b",
   "metadata": {},
   "source": [
    "# Raw SST Data"
   ]
  },
  {
   "cell_type": "code",
   "execution_count": null,
   "id": "8bc76bab",
   "metadata": {},
   "outputs": [],
   "source": [
    "cat = intake.open_catalog(\n",
    "    \"https://raw.githubusercontent.com/eerie-project/intake_catalogues/main/eerie.yaml\"\n",
    ")"
   ]
  },
  {
   "cell_type": "code",
   "execution_count": null,
   "id": "7c9a16ce",
   "metadata": {},
   "outputs": [],
   "source": [
    "# Import 40 years of OSTIA Observations\n",
    "dat_regrid = cat[\"dkrz.disk.observations.OSTIA.OSTIA.daily\"]\n",
    "sst_regrid = (\n",
    "    dat_regrid(chunks={})\n",
    "    .to_dask()\n",
    "    .sst.astype(np.float32)\n",
    "    .coarsen(lat=5, lon=5)\n",
    "    .mean()\n",
    "    .rename(\"to\")\n",
    ")\n",
    "sst_regrid"
   ]
  },
  {
   "cell_type": "code",
   "execution_count": null,
   "id": "40d8061c",
   "metadata": {},
   "outputs": [],
   "source": [
    "# Import 40 years of Daily ICON data (ref. EERIE project)\n",
    "dat_native = cat[\"dkrz.disk.model-output.icon-esm-er.eerie-control-1950.v20240618\"][\n",
    "    \"ocean\"\n",
    "][\"native\"]\n",
    "sst_native = (\n",
    "    dat_native[\"2d_daily_mean\"](chunks={})\n",
    "    .to_dask()\n",
    "    .to.isel(depth=0)\n",
    "    .drop_vars({\"depth\", \"cell_sea_land_mask\"})\n",
    "    .chunk({\"time\": 32})\n",
    ")\n",
    "sst_native"
   ]
  },
  {
   "cell_type": "code",
   "execution_count": null,
   "id": "799b7a18",
   "metadata": {},
   "outputs": [],
   "source": [
    "# Define subset\n",
    "time_slice_ostia = slice(\"1982-01-01\", \"2022-01-01\")\n",
    "time_slice_icon = slice(\"1991-01-01\", \"2031-01-01\")\n",
    "regrid_slice_ostia = dict(lat=slice(35, 40), lon=slice(-40, -30))\n",
    "native_slice_icon = slice(0, 1000)"
   ]
  },
  {
   "cell_type": "code",
   "execution_count": null,
   "id": "668fb398",
   "metadata": {},
   "outputs": [],
   "source": [
    "sst_regrid_slice = sst_regrid.sel(time=time_slice_ostia, **regrid_slice_ostia).chunk(\n",
    "    {\"time\": 30, \"lat\": -1, \"lon\": -1}\n",
    ")\n",
    "sst_regrid_slice"
   ]
  },
  {
   "cell_type": "code",
   "execution_count": null,
   "id": "fc1841dd",
   "metadata": {},
   "outputs": [],
   "source": [
    "sst_native_slice = (\n",
    "    sst_native.sel(time=time_slice_icon)\n",
    "    .isel(ncells=native_slice_icon)\n",
    "    .drop_vars({\"lat\", \"lon\"})\n",
    ")\n",
    "sst_native_slice"
   ]
  },
  {
   "cell_type": "code",
   "execution_count": null,
   "id": "f5062d75",
   "metadata": {},
   "outputs": [],
   "source": [
    "# Save to Zarr\n",
    "sst_regrid_slice.to_zarr(save_dir / \"sst_gridded.zarr\", mode=\"w\")\n",
    "sst_native_slice.to_zarr(save_dir / \"sst_unstructured.zarr\", mode=\"w\")"
   ]
  },
  {
   "cell_type": "markdown",
   "id": "3a66b2d3",
   "metadata": {},
   "source": [
    "# Pre-processed Data"
   ]
  },
  {
   "cell_type": "code",
   "execution_count": null,
   "id": "acc21e3a",
   "metadata": {},
   "outputs": [],
   "source": [
    "time_slice = slice(\"2010-01-01\", \"2010-02-01\")\n",
    "extremes_ds = (\n",
    "    xr.open_zarr(\n",
    "        scratch_dir / \"mhws\" / \"extremes_binary_gridded_shifting_hobday.zarr\", chunks={}\n",
    "    )\n",
    "    .sel(time=time_slice)\n",
    "    .drop_vars({\"thresholds\", \"dat_anomaly\", \"dayofyear\"})\n",
    ")\n",
    "extremes_ds"
   ]
  },
  {
   "cell_type": "code",
   "execution_count": null,
   "id": "c0717987",
   "metadata": {},
   "outputs": [],
   "source": [
    "# Coarsen extremes_ds (lat & lon)\n",
    "extremes_ds_coarsen = (\n",
    "    extremes_ds.coarsen(lat=4, lon=4, boundary=\"trim\")\n",
    "    .any()\n",
    "    .chunk({\"time\": 2, \"lat\": -1, \"lon\": -1})\n",
    "    .persist()\n",
    ")\n",
    "extremes_ds_coarsen"
   ]
  },
  {
   "cell_type": "code",
   "execution_count": null,
   "id": "764d5d39",
   "metadata": {},
   "outputs": [],
   "source": [
    "# Clear encoding so we can write to Zarr\n",
    "extremes_ds_coarsen.encoding = {}\n",
    "for var in extremes_ds_coarsen.data_vars:\n",
    "    extremes_ds_coarsen[var].encoding = {}"
   ]
  },
  {
   "cell_type": "code",
   "execution_count": null,
   "id": "c1b2083a",
   "metadata": {},
   "outputs": [],
   "source": [
    "extremes_ds_coarsen.to_zarr(save_dir / \"extremes_gridded.zarr\", mode=\"w\")"
   ]
  },
  {
   "cell_type": "markdown",
   "id": "66e7b207",
   "metadata": {},
   "source": [
    "# Make Pre-processed Native Data"
   ]
  },
  {
   "cell_type": "code",
   "execution_count": 4,
   "id": "344f1faf",
   "metadata": {},
   "outputs": [],
   "source": [
    "cat = intake.open_catalog(\n",
    "    \"https://raw.githubusercontent.com/eerie-project/intake_catalogues/main/eerie.yaml\"\n",
    ")"
   ]
  },
  {
   "cell_type": "code",
   "execution_count": 5,
   "id": "64194971",
   "metadata": {},
   "outputs": [],
   "source": [
    "# Import 40 years of Daily ICON data (ref. EERIE project)\n",
    "dat_native = cat[\"dkrz.disk.model-output.icon-esm-er.eerie-control-1950.v20240618\"][\n",
    "    \"ocean\"\n",
    "][\"native\"]\n",
    "sst_native = (\n",
    "    dat_native[\"2d_daily_mean\"](chunks={})\n",
    "    .to_dask()\n",
    "    .to.isel(depth=0)\n",
    "    .drop_vars({\"depth\", \"cell_sea_land_mask\"})\n",
    "    .chunk({\"time\": 32})\n",
    ")\n",
    "sst_native"
   ]
  },
  {
   "cell_type": "code",
   "execution_count": 6,
   "id": "5872a6e7",
   "metadata": {},
   "outputs": [],
   "source": [
    "time_slice_icon = slice(\"2000-01-01\", \"2002-01-01\")"
   ]
  },
  {
   "cell_type": "code",
   "execution_count": 7,
   "id": "2eb8e5c8",
   "metadata": {},
   "outputs": [],
   "source": [
    "sst_native_slice = sst_native.sel(\n",
    "    time=time_slice_icon\n",
    ")  # .isel(ncells=native_slice_icon)\n",
    "sst_native_slice"
   ]
  },
  {
   "cell_type": "code",
   "execution_count": 8,
   "id": "3254b118",
   "metadata": {},
   "outputs": [],
   "source": [
    "grid2d = dat_native[\"2d_grid\"](chunks={}).to_dask().rename({\"cell\": \"ncells\"})\n",
    "neighbours = grid2d.neighbor_cell_index.rename({\"clat\": \"lat\", \"clon\": \"lon\"})\n",
    "areas = grid2d.cell_area.rename({\"clat\": \"lat\", \"clon\": \"lon\"})"
   ]
  },
  {
   "cell_type": "code",
   "execution_count": 9,
   "id": "54712e7a",
   "metadata": {},
   "outputs": [],
   "source": [
    "sst_native_slice = sst_native_slice.chunk({\"ncells\": 100000})\n",
    "sst_native_slice"
   ]
  },
  {
   "cell_type": "code",
   "execution_count": 10,
   "id": "c2afffc6",
   "metadata": {},
   "outputs": [],
   "source": [
    "# Process Data using `MarEx Detect` helper functions:\n",
    "\n",
    "extremes_ds = marEx.preprocess_data(\n",
    "    sst_native_slice,\n",
    "    threshold_percentile=95,  # Use the 95th percentile as the extremes threshold\n",
    "    dask_chunks={\n",
    "        \"time\": 2\n",
    "    },  # Dask chunks for *output* data (this is much smaller than the input chunks because the Tracking/ID is more memory-intensive)\n",
    "    neighbours=neighbours,  # Pass information about neighbours to be used in subsequent processing\n",
    "    cell_areas=areas,  # Pass information about each Unstructured Grid's cell area (in metres) to be used in subsequent processing\n",
    "    dimensions={\"time\": \"time\", \"xdim\": \"ncells\"},\n",
    ")  # Not specifying 'ydim' tells MarEx-Detect that it is an Unstructured Grid\n",
    "extremes_ds"
   ]
  },
  {
   "cell_type": "code",
   "execution_count": 13,
   "id": "fa668e8d",
   "metadata": {},
   "outputs": [],
   "source": [
    "N_cells = 1000"
   ]
  },
  {
   "cell_type": "code",
   "execution_count": 14,
   "id": "728496bb",
   "metadata": {},
   "outputs": [],
   "source": [
    "native_slice_icon = slice(0, N_cells)\n",
    "extremes_subset = xr.load_dataset(\n",
    "    scratch_dir / \"mhws\" / \"extremes_unstructured_small.zarr\", chunks={}\n",
    ").isel(ncells=native_slice_icon)\n",
    "extremes_subset"
   ]
  },
  {
   "cell_type": "code",
   "execution_count": 15,
   "id": "7ea4c564",
   "metadata": {},
   "outputs": [],
   "source": [
    "# Set all neighbours > N_cells to be 0\n",
    "extremes_subset[\"neighbours\"] = extremes_subset.neighbours.where(\n",
    "    extremes_subset.neighbours <= N_cells, 0\n",
    ")"
   ]
  },
  {
   "cell_type": "code",
   "execution_count": 16,
   "id": "2186741d",
   "metadata": {},
   "outputs": [],
   "source": [
    "extremes_subset.to_zarr(save_dir / \"extremes_unstructured.zarr\", mode=\"w\")"
   ]
  }
 ],
 "metadata": {
  "kernelspec": {
   "display_name": "py310 (ipykernel)",
   "language": "python",
   "name": "python3"
  },
  "language_info": {
   "codemirror_mode": {
    "name": "ipython",
    "version": 3
   },
   "file_extension": ".py",
   "mimetype": "text/x-python",
   "name": "python",
   "nbconvert_exporter": "python",
   "pygments_lexer": "ipython3",
   "version": "3.10.17"
  }
 },
 "nbformat": 4,
 "nbformat_minor": 5
}
