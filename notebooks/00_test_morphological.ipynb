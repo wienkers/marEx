{
 "cells": [
  {
   "cell_type": "code",
   "execution_count": 1,
   "metadata": {},
   "outputs": [],
   "source": [
    "import xarray as xr\n",
    "import dask\n",
    "from getpass import getuser\n",
    "from pathlib import Path\n",
    "\n",
    "import spot_the_blOb as blob\n",
    "import spot_the_blOb.helper as hpc"
   ]
  },
  {
   "cell_type": "code",
   "execution_count": 2,
   "metadata": {},
   "outputs": [
    {
     "name": "stdout",
     "output_type": "stream",
     "text": [
      "Memory per Worker: 62.96 GB\n"
     ]
    },
    {
     "name": "stderr",
     "output_type": "stream",
     "text": [
      "/home/b/b382615/opt/anaconda3/lib/python3.10/site-packages/distributed/node.py:187: UserWarning: Port 8787 is already in use.\n",
      "Perhaps you already have a cluster running?\n",
      "Hosting the HTTP server on port 42005 instead\n",
      "  warnings.warn(\n"
     ]
    },
    {
     "name": "stdout",
     "output_type": "stream",
     "text": [
      "Hostname is  l40031\n",
      "Forward Port = l40031:42005\n",
      "Dashboard Link: localhost:42005/status\n"
     ]
    }
   ],
   "source": [
    "# Start Dask Cluster\n",
    "client = hpc.StartLocalCluster(n_workers=8, n_threads=2)"
   ]
  },
  {
   "cell_type": "code",
   "execution_count": 3,
   "metadata": {},
   "outputs": [],
   "source": [
    "# Load Pre-processed Data (cf. `01_preprocess_extremes.ipynb`)\n",
    "\n",
    "file_name = Path('/scratch') / getuser()[0] / getuser() / 'mhws' / 'extreme_events_binary.zarr'\n",
    "chunk_size = {'time': 25, 'lat': -1, 'lon': -1}\n",
    "ds = xr.open_zarr(str(file_name), chunks=chunk_size)"
   ]
  },
  {
   "cell_type": "code",
   "execution_count": 4,
   "metadata": {},
   "outputs": [],
   "source": [
    "# Extract Binary Features and Modify Mask\n",
    "\n",
    "extreme_bin = ds.extreme_events.isel(time=slice(100,102))\n",
    "mask = ds.mask.where((ds.lat<85) & (ds.lat>-90), other=False)"
   ]
  },
  {
   "cell_type": "code",
   "execution_count": 5,
   "metadata": {},
   "outputs": [],
   "source": [
    "drop_area_quartile = 0.5\n",
    "filling_radius = 8\n",
    "allow_merging = True\n",
    "nn_partitioning = True"
   ]
  },
  {
   "cell_type": "code",
   "execution_count": 6,
   "metadata": {},
   "outputs": [],
   "source": [
    "tracker = blob.Spotter(extreme_bin, mask, R_fill=filling_radius, area_filter_quartile=drop_area_quartile, \n",
    "                       allow_merging=allow_merging, nn_partitioning=nn_partitioning)"
   ]
  },
  {
   "cell_type": "code",
   "execution_count": 7,
   "metadata": {},
   "outputs": [],
   "source": [
    "# extreme_bin_filled = tracker.fill_holes()"
   ]
  },
  {
   "cell_type": "code",
   "execution_count": 8,
   "metadata": {},
   "outputs": [],
   "source": [
    "import xarray as xr\n",
    "import numpy as np\n",
    "from dask_image.ndmeasure import label\n",
    "from skimage.measure import regionprops_table\n",
    "from dask_image.ndmorph import binary_closing, binary_opening\n",
    "from scipy.sparse import csr_matrix\n",
    "from scipy.sparse.csgraph import connected_components\n",
    "from dask import persist\n",
    "from dask.base import is_dask_collection\n",
    "from numba import jit, prange\n",
    "import warnings\n",
    "import matplotlib.pyplot as plt\n",
    "\n",
    "import scipy.ndimage"
   ]
  },
  {
   "cell_type": "code",
   "execution_count": 9,
   "metadata": {},
   "outputs": [],
   "source": [
    "# Generate Structuring Element\n",
    "y, x = np.ogrid[-tracker.R_fill:tracker.R_fill+1, -tracker.R_fill:tracker.R_fill+1]\n",
    "r = x**2 + y**2\n",
    "se_kernel = r < (tracker.R_fill**2)+1"
   ]
  },
  {
   "cell_type": "code",
   "execution_count": 10,
   "metadata": {},
   "outputs": [],
   "source": [
    "# Pad the binary data\n",
    "diameter = 2 * tracker.R_fill\n",
    "binary_data_padded = tracker.data_bin.pad({tracker.ydim: diameter, tracker.xdim: diameter, }, mode='wrap')"
   ]
  },
  {
   "cell_type": "code",
   "execution_count": 11,
   "metadata": {},
   "outputs": [],
   "source": [
    "\n",
    "# # Apply binary closing and opening\n",
    "# binary_data_closed = binary_closing(binary_data_padded.data, structure=se_kernel[np.newaxis, :, :])  # N.B.: Need to extract dask.array.Array from xarray.DataArray\n",
    "# binary_data_opened = binary_opening(binary_data_closed, structure=se_kernel[np.newaxis, :, :])\n",
    "\n",
    "# # Convert back to xarray.DataArray\n",
    "# binary_data_opened = xr.DataArray(binary_data_opened, coords=binary_data_padded.coords, dims=binary_data_padded.dims)\n",
    "# data_bin_filled    = binary_data_opened.isel({tracker.ydim: slice(diameter, -diameter), tracker.xdim: slice(diameter, -diameter)})\n",
    "\n",
    "# # Mask out edge features arising from Morphological Operations\n",
    "# data_bin_filled_mask = data_bin_filled.where(tracker.mask, drop=False, other=False)\n"
   ]
  },
  {
   "cell_type": "code",
   "execution_count": 12,
   "metadata": {},
   "outputs": [],
   "source": [
    "## Revert to scipy implementation...\n",
    "\n",
    "def binary_open_close(bitmap_binary):\n",
    "    bitmap_binary_padded = np.pad(bitmap_binary,\n",
    "                                    ((diameter, diameter), (diameter, diameter)),\n",
    "                                    mode='wrap')\n",
    "    s1 = scipy.ndimage.binary_closing(bitmap_binary_padded, se_kernel, iterations=1)\n",
    "    s2 = scipy.ndimage.binary_opening(s1, se_kernel, iterations=1)\n",
    "    unpadded= s2[diameter:-diameter, diameter:-diameter]\n",
    "    return unpadded\n",
    "\n",
    "data_bin_filled_mask = xr.apply_ufunc(binary_open_close, tracker.data_bin,\n",
    "                            input_core_dims=[[tracker.ydim, tracker.xdim]],\n",
    "                            output_core_dims=[[tracker.ydim, tracker.xdim]],\n",
    "                            output_dtypes=[tracker.data_bin.dtype],\n",
    "                            vectorize=True,\n",
    "                            dask='parallelized')"
   ]
  },
  {
   "cell_type": "code",
   "execution_count": null,
   "metadata": {},
   "outputs": [],
   "source": [
    "extreme_bin_filled = data_bin_filled_mask"
   ]
  },
  {
   "cell_type": "code",
   "execution_count": null,
   "metadata": {},
   "outputs": [],
   "source": [
    "tracker.data_bin.isel(time=0).plot()"
   ]
  },
  {
   "cell_type": "code",
   "execution_count": null,
   "metadata": {},
   "outputs": [],
   "source": [
    "extreme_bin_filled.isel(time=0).plot()"
   ]
  },
  {
   "cell_type": "code",
   "execution_count": null,
   "metadata": {},
   "outputs": [],
   "source": [
    "extreme_bin_filled.isel(time=0).plot()\n",
    "# zoom in on lon = 125 lat = 0\n",
    "plt.xlim(120, 140)\n",
    "plt.ylim(-10, 10)"
   ]
  }
 ],
 "metadata": {
  "kernelspec": {
   "display_name": "Python 3 (ipykernel)",
   "language": "python",
   "name": "python3"
  }
 },
 "nbformat": 4,
 "nbformat_minor": 2
}
