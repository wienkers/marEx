{
 "cells": [
  {
   "cell_type": "markdown",
   "metadata": {},
   "source": [
    "# Pre-Process global _daily_ SST using `hot_to_blOb` to extract binary features"
   ]
  },
  {
   "cell_type": "markdown",
   "id": "a2d21965",
   "metadata": {},
   "source": [
    "## Steps:\n",
    "1. Compute Normalised Detrended Anomaly (cf. `hot_to_blOb.py::compute_normalised_anomaly()`)\n",
    "2. Identify Extreme Values (i.e. above 95th percentile)\n",
    "\n",
    "N.B.: Exploits parallelised `Dask` operations with optimised chunking using `flox` \\\n",
    "N.N.B.: This example using 40 years of Daily outputs at 0.25° resolution takes ~5 minutes on 128 cores"
   ]
  },
  {
   "cell_type": "code",
   "execution_count": 1,
   "metadata": {},
   "outputs": [],
   "source": [
    "import xarray as xr\n",
    "import dask\n",
    "import intake\n",
    "from getpass import getuser\n",
    "from pathlib import Path\n",
    "\n",
    "import spot_the_blOb.hot_to_blOb as hot\n",
    "import spot_the_blOb.helper as hpc"
   ]
  },
  {
   "cell_type": "code",
   "execution_count": 3,
   "id": "59a5e264",
   "metadata": {},
   "outputs": [],
   "source": [
    "# Start Dask Cluster\n",
    "client = hpc.StartLocalCluster(n_workers=32, n_threads=4)"
   ]
  },
  {
   "cell_type": "code",
   "execution_count": 4,
   "id": "40d8061c",
   "metadata": {},
   "outputs": [],
   "source": [
    "# Import 40 years of Daily EERIE ICON data\n",
    "\n",
    "cat = intake.open_catalog(\"https://raw.githubusercontent.com/eerie-project/intake_catalogues/main/eerie.yaml\")\n",
    "expid = 'eerie-control-1950'\n",
    "version = 'v20231106'\n",
    "model = 'icon-esm-er'\n",
    "gridspec = 'gr025'\n",
    "\n",
    "dat = cat['dkrz.disk.model-output'][model][expid][version]['ocean'][gridspec]"
   ]
  },
  {
   "cell_type": "code",
   "execution_count": 5,
   "id": "25d52604",
   "metadata": {},
   "outputs": [],
   "source": [
    "# Load the data directly into optimal chunks\n",
    "\n",
    "da_predictor = dat['2d_daily_mean'](chunks={}).to_dask().to.isel(depth=0).drop('depth') # Test da\n",
    "time_chunk = hot.rechunk_for_cohorts(da_predictor).chunks[0]\n",
    "\n",
    "sst = dat['2d_daily_mean'](chunks={'time':time_chunk}).to_dask().to.isel(depth=0).drop('depth')"
   ]
  },
  {
   "cell_type": "code",
   "execution_count": 10,
   "id": "389349a6",
   "metadata": {},
   "outputs": [],
   "source": [
    "# Process Data using `hot_to_blOb` helper functions:\n",
    "\n",
    "extreme_events_ds = hot.preprocess_data(sst, threshold=95)\n",
    "extreme_events_ds"
   ]
  },
  {
   "cell_type": "code",
   "execution_count": null,
   "metadata": {},
   "outputs": [],
   "source": [
    "# Save data to `zarr` for more efficient parallel I/O\n",
    "\n",
    "file_name = Path('/scratch') / getuser()[0] / getuser() / 'mhws' / 'extreme_events_binary.zarr'\n",
    "extreme_events_ds.to_zarr(file_name, mode='w')"
   ]
  }
 ],
 "metadata": {
  "kernelspec": {
   "display_name": "Python 3 (ipykernel)",
   "language": "python",
   "name": "python3"
  }
 },
 "nbformat": 4,
 "nbformat_minor": 5
}
