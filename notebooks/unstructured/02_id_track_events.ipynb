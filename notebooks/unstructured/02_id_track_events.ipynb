{
 "cells": [
  {
   "cell_type": "markdown",
   "id": "5b7d3a1a",
   "metadata": {},
   "source": [
    "# Identify & Track Marine Heatwaves on _Unstructured Grid_ using `spot_the_blOb`"
   ]
  },
  {
   "cell_type": "markdown",
   "id": "61028733",
   "metadata": {},
   "source": [
    "## Processing Steps:\n",
    "1. Fill spatial holes in the binary data, using `dask_image.ndmorph` -- up to `R_fill` cells in radius.\n",
    "2. Fill gaps in time -- permitting up to `T_fill` missing time slices, while keeping the same blob ID.\n",
    "3. Filter out small objects -- area less than the bottom `area_filter_quartile` of the size distribution of objects.\n",
    "4. Identify objects in the binary data, using `dask_image.ndmeasure`.\n",
    "5. Connect objects across time, applying the following criteria for splitting, merging, and persistence:\n",
    "    - Connected Blobs must overlap by at least fraction `overlap_threshold` of the smaller blob.\n",
    "    - Merged Blobs retain their original ID, but partition the child blob based on the parent of the _nearest-neighbour_ cell. \n",
    "6. Cluster and reduce the final object ID graph using `scipy.sparse.csgraph.connected_components`.\n",
    "7. Map the tracked objects into ID-time space for convenient analysis.\n",
    "\n",
    "N.B.: Exploits parallelised `dask` operations with optimised chunking using `flox` for memory efficiency and speed \\\n",
    "N.N.B.: This example using 40 years of _daily_ outputs at 5km resolution on an Unstructured Grid (15 million cells) using 32 cores takes \n",
    "- Full Split/Merge Thresholding & Merge Tracking:  ~40 minutes"
   ]
  },
  {
   "cell_type": "code",
   "execution_count": null,
   "id": "6b337539",
   "metadata": {},
   "outputs": [],
   "source": [
    "import xarray as xr\n",
    "import dask\n",
    "from getpass import getuser\n",
    "from pathlib import Path\n",
    "\n",
    "import spot_the_blOb as blob\n",
    "import spot_the_blOb.helper as hpc"
   ]
  },
  {
   "cell_type": "code",
   "execution_count": null,
   "id": "310fd2ef",
   "metadata": {},
   "outputs": [
    {
     "name": "stderr",
     "output_type": "stream",
     "text": [
      "2024-12-10 19:33:01,653 - distributed.scheduler - WARNING - Removing worker 'tcp://127.0.0.1:41173' caused the cluster to lose already computed task(s), which will be recomputed elsewhere: {('transpose-abc76ff9aa40c83a8fe04e81f638a5f1', 28, 0), ('transpose-1ce20af2cae8681225cd60a2d38315da', 28, 0), ('transpose-24b3232b2164dbdc36663306593b64d1', 28, 0), ('_trim-151b707e02d9935f1acff686b570b313', 28, 0), ('transpose-9751b33b295dc47eac5b025839d4a25f', 28, 0)} (stimulus_id='handle-worker-cleanup-1733855581.6523628')\n",
      "2024-12-10 19:33:01,656 - distributed.scheduler - WARNING - Removing worker 'tcp://127.0.0.1:46429' caused the cluster to lose already computed task(s), which will be recomputed elsewhere: {('transpose-abc76ff9aa40c83a8fe04e81f638a5f1', 16, 0), ('transpose-24b3232b2164dbdc36663306593b64d1', 16, 0), ('transpose-1ce20af2cae8681225cd60a2d38315da', 16, 0), ('transpose-9751b33b295dc47eac5b025839d4a25f', 16, 0), ('_trim-151b707e02d9935f1acff686b570b313', 16, 0)} (stimulus_id='handle-worker-cleanup-1733855581.656715')\n",
      "2024-12-10 19:33:01,658 - distributed.scheduler - WARNING - Removing worker 'tcp://127.0.0.1:42457' caused the cluster to lose already computed task(s), which will be recomputed elsewhere: {('open_dataset-lat-293585830ca8d2a6becd7de1f156034e', 0), ('transpose-24b3232b2164dbdc36663306593b64d1', 11, 0), ('transpose-1ce20af2cae8681225cd60a2d38315da', 11, 0), ('transpose-9751b33b295dc47eac5b025839d4a25f', 11, 0), ('transpose-abc76ff9aa40c83a8fe04e81f638a5f1', 11, 0), ('_trim-151b707e02d9935f1acff686b570b313', 11, 0)} (stimulus_id='handle-worker-cleanup-1733855581.6585646')\n",
      "2024-12-10 19:33:01,660 - distributed.scheduler - WARNING - Removing worker 'tcp://127.0.0.1:42989' caused the cluster to lose already computed task(s), which will be recomputed elsewhere: {('transpose-9751b33b295dc47eac5b025839d4a25f', 14, 0), ('transpose-abc76ff9aa40c83a8fe04e81f638a5f1', 14, 0), ('transpose-1ce20af2cae8681225cd60a2d38315da', 14, 0), ('transpose-24b3232b2164dbdc36663306593b64d1', 14, 0), ('_trim-151b707e02d9935f1acff686b570b313', 14, 0)} (stimulus_id='handle-worker-cleanup-1733855581.660286')\n",
      "2024-12-10 19:33:01,661 - distributed.scheduler - WARNING - Removing worker 'tcp://127.0.0.1:45043' caused the cluster to lose already computed task(s), which will be recomputed elsewhere: {('transpose-abc76ff9aa40c83a8fe04e81f638a5f1', 17, 0), ('transpose-24b3232b2164dbdc36663306593b64d1', 17, 0), ('transpose-9751b33b295dc47eac5b025839d4a25f', 17, 0), ('_trim-151b707e02d9935f1acff686b570b313', 17, 0), ('transpose-1ce20af2cae8681225cd60a2d38315da', 17, 0)} (stimulus_id='handle-worker-cleanup-1733855581.6614816')\n",
      "2024-12-10 19:33:01,662 - distributed.scheduler - WARNING - Removing worker 'tcp://127.0.0.1:39959' caused the cluster to lose already computed task(s), which will be recomputed elsewhere: {('transpose-9751b33b295dc47eac5b025839d4a25f', 27, 0), ('transpose-abc76ff9aa40c83a8fe04e81f638a5f1', 27, 0), ('_trim-151b707e02d9935f1acff686b570b313', 27, 0), ('transpose-1ce20af2cae8681225cd60a2d38315da', 27, 0), ('transpose-24b3232b2164dbdc36663306593b64d1', 27, 0)} (stimulus_id='handle-worker-cleanup-1733855581.6628702')\n",
      "2024-12-10 19:33:01,664 - distributed.scheduler - WARNING - Removing worker 'tcp://127.0.0.1:40393' caused the cluster to lose already computed task(s), which will be recomputed elsewhere: {('transpose-abc76ff9aa40c83a8fe04e81f638a5f1', 12, 0), ('_trim-151b707e02d9935f1acff686b570b313', 12, 0), ('transpose-1ce20af2cae8681225cd60a2d38315da', 12, 0), ('transpose-24b3232b2164dbdc36663306593b64d1', 12, 0), ('transpose-9751b33b295dc47eac5b025839d4a25f', 12, 0)} (stimulus_id='handle-worker-cleanup-1733855581.664281')\n",
      "2024-12-10 19:33:01,665 - distributed.scheduler - WARNING - Removing worker 'tcp://127.0.0.1:39555' caused the cluster to lose already computed task(s), which will be recomputed elsewhere: {('transpose-9751b33b295dc47eac5b025839d4a25f', 10, 0), ('transpose-abc76ff9aa40c83a8fe04e81f638a5f1', 10, 0), ('_trim-151b707e02d9935f1acff686b570b313', 10, 0), ('transpose-1ce20af2cae8681225cd60a2d38315da', 10, 0), ('transpose-24b3232b2164dbdc36663306593b64d1', 10, 0)} (stimulus_id='handle-worker-cleanup-1733855581.665518')\n",
      "2024-12-10 19:33:01,666 - distributed.scheduler - WARNING - Removing worker 'tcp://127.0.0.1:42635' caused the cluster to lose already computed task(s), which will be recomputed elsewhere: {('transpose-abc76ff9aa40c83a8fe04e81f638a5f1', 5, 0), ('transpose-9751b33b295dc47eac5b025839d4a25f', 5, 0), ('_trim-151b707e02d9935f1acff686b570b313', 5, 0), ('transpose-1ce20af2cae8681225cd60a2d38315da', 5, 0), ('transpose-24b3232b2164dbdc36663306593b64d1', 5, 0)} (stimulus_id='handle-worker-cleanup-1733855581.6667364')\n",
      "2024-12-10 19:33:01,668 - distributed.scheduler - WARNING - Removing worker 'tcp://127.0.0.1:44083' caused the cluster to lose already computed task(s), which will be recomputed elsewhere: {('transpose-9751b33b295dc47eac5b025839d4a25f', 20, 0), ('transpose-abc76ff9aa40c83a8fe04e81f638a5f1', 20, 0), ('_trim-151b707e02d9935f1acff686b570b313', 20, 0), ('transpose-1ce20af2cae8681225cd60a2d38315da', 20, 0), ('transpose-24b3232b2164dbdc36663306593b64d1', 20, 0)} (stimulus_id='handle-worker-cleanup-1733855581.6685266')\n",
      "2024-12-10 19:33:01,670 - distributed.scheduler - WARNING - Removing worker 'tcp://127.0.0.1:40425' caused the cluster to lose already computed task(s), which will be recomputed elsewhere: {('_trim-151b707e02d9935f1acff686b570b313', 2, 0), ('transpose-abc76ff9aa40c83a8fe04e81f638a5f1', 2, 0), ('transpose-1ce20af2cae8681225cd60a2d38315da', 2, 0), ('transpose-24b3232b2164dbdc36663306593b64d1', 2, 0), ('open_dataset-lon-293585830ca8d2a6becd7de1f156034e', 0), ('transpose-9751b33b295dc47eac5b025839d4a25f', 2, 0)} (stimulus_id='handle-worker-cleanup-1733855581.6707065')\n",
      "2024-12-10 19:33:01,672 - distributed.scheduler - WARNING - Removing worker 'tcp://127.0.0.1:45429' caused the cluster to lose already computed task(s), which will be recomputed elsewhere: {('transpose-9751b33b295dc47eac5b025839d4a25f', 3, 0), ('transpose-abc76ff9aa40c83a8fe04e81f638a5f1', 3, 0), ('_trim-151b707e02d9935f1acff686b570b313', 3, 0), ('transpose-1ce20af2cae8681225cd60a2d38315da', 3, 0), ('transpose-24b3232b2164dbdc36663306593b64d1', 3, 0)} (stimulus_id='handle-worker-cleanup-1733855581.672162')\n",
      "2024-12-10 19:33:01,673 - distributed.scheduler - WARNING - Removing worker 'tcp://127.0.0.1:37799' caused the cluster to lose already computed task(s), which will be recomputed elsewhere: {('transpose-1ce20af2cae8681225cd60a2d38315da', 29, 0), ('transpose-abc76ff9aa40c83a8fe04e81f638a5f1', 29, 0), ('_trim-151b707e02d9935f1acff686b570b313', 29, 0), ('transpose-24b3232b2164dbdc36663306593b64d1', 29, 0), ('transpose-9751b33b295dc47eac5b025839d4a25f', 29, 0)} (stimulus_id='handle-worker-cleanup-1733855581.6732175')\n",
      "2024-12-10 19:33:01,675 - distributed.scheduler - WARNING - Removing worker 'tcp://127.0.0.1:33399' caused the cluster to lose already computed task(s), which will be recomputed elsewhere: {('transpose-abc76ff9aa40c83a8fe04e81f638a5f1', 19, 0), ('_trim-151b707e02d9935f1acff686b570b313', 19, 0), ('transpose-1ce20af2cae8681225cd60a2d38315da', 19, 0), ('transpose-24b3232b2164dbdc36663306593b64d1', 19, 0), ('transpose-9751b33b295dc47eac5b025839d4a25f', 19, 0)} (stimulus_id='handle-worker-cleanup-1733855581.6752088')\n",
      "2024-12-10 19:33:01,676 - distributed.scheduler - WARNING - Removing worker 'tcp://127.0.0.1:40079' caused the cluster to lose already computed task(s), which will be recomputed elsewhere: {('transpose-9751b33b295dc47eac5b025839d4a25f', 31, 0), ('transpose-abc76ff9aa40c83a8fe04e81f638a5f1', 31, 0), ('_trim-151b707e02d9935f1acff686b570b313', 31, 0), ('transpose-1ce20af2cae8681225cd60a2d38315da', 31, 0), ('transpose-24b3232b2164dbdc36663306593b64d1', 31, 0)} (stimulus_id='handle-worker-cleanup-1733855581.676671')\n",
      "2024-12-10 19:33:01,678 - distributed.scheduler - WARNING - Removing worker 'tcp://127.0.0.1:35775' caused the cluster to lose already computed task(s), which will be recomputed elsewhere: {('transpose-9751b33b295dc47eac5b025839d4a25f', 25, 0), ('transpose-abc76ff9aa40c83a8fe04e81f638a5f1', 25, 0), ('_trim-151b707e02d9935f1acff686b570b313', 25, 0), ('transpose-1ce20af2cae8681225cd60a2d38315da', 25, 0), ('transpose-24b3232b2164dbdc36663306593b64d1', 25, 0)} (stimulus_id='handle-worker-cleanup-1733855581.6780078')\n",
      "2024-12-10 19:33:01,679 - distributed.scheduler - WARNING - Removing worker 'tcp://127.0.0.1:34827' caused the cluster to lose already computed task(s), which will be recomputed elsewhere: {('transpose-abc76ff9aa40c83a8fe04e81f638a5f1', 4, 0), ('transpose-24b3232b2164dbdc36663306593b64d1', 4, 0), ('transpose-9751b33b295dc47eac5b025839d4a25f', 4, 0), ('_trim-151b707e02d9935f1acff686b570b313', 4, 0), ('transpose-1ce20af2cae8681225cd60a2d38315da', 4, 0)} (stimulus_id='handle-worker-cleanup-1733855581.67947')\n",
      "2024-12-10 19:33:01,680 - distributed.scheduler - WARNING - Removing worker 'tcp://127.0.0.1:46823' caused the cluster to lose already computed task(s), which will be recomputed elsewhere: {('transpose-24b3232b2164dbdc36663306593b64d1', 18, 0), ('transpose-1ce20af2cae8681225cd60a2d38315da', 18, 0), ('_trim-151b707e02d9935f1acff686b570b313', 18, 0), ('transpose-9751b33b295dc47eac5b025839d4a25f', 18, 0), ('transpose-abc76ff9aa40c83a8fe04e81f638a5f1', 18, 0)} (stimulus_id='handle-worker-cleanup-1733855581.680662')\n",
      "2024-12-10 19:33:01,681 - distributed.scheduler - WARNING - Removing worker 'tcp://127.0.0.1:44183' caused the cluster to lose already computed task(s), which will be recomputed elsewhere: {('transpose-1ce20af2cae8681225cd60a2d38315da', 13, 0), ('transpose-9751b33b295dc47eac5b025839d4a25f', 13, 0), ('transpose-abc76ff9aa40c83a8fe04e81f638a5f1', 13, 0), ('transpose-24b3232b2164dbdc36663306593b64d1', 13, 0), ('_trim-151b707e02d9935f1acff686b570b313', 13, 0)} (stimulus_id='handle-worker-cleanup-1733855581.681746')\n",
      "2024-12-10 19:33:01,683 - distributed.scheduler - WARNING - Removing worker 'tcp://127.0.0.1:34661' caused the cluster to lose already computed task(s), which will be recomputed elsewhere: {('transpose-1ce20af2cae8681225cd60a2d38315da', 8, 0), ('transpose-abc76ff9aa40c83a8fe04e81f638a5f1', 8, 0), ('_trim-151b707e02d9935f1acff686b570b313', 8, 0), ('transpose-24b3232b2164dbdc36663306593b64d1', 8, 0), ('transpose-9751b33b295dc47eac5b025839d4a25f', 8, 0)} (stimulus_id='handle-worker-cleanup-1733855581.6837142')\n",
      "2024-12-10 19:33:01,685 - distributed.scheduler - WARNING - Removing worker 'tcp://127.0.0.1:44711' caused the cluster to lose already computed task(s), which will be recomputed elsewhere: {('transpose-abc76ff9aa40c83a8fe04e81f638a5f1', 21, 0), ('transpose-24b3232b2164dbdc36663306593b64d1', 21, 0), ('transpose-9751b33b295dc47eac5b025839d4a25f', 21, 0), ('_trim-151b707e02d9935f1acff686b570b313', 21, 0), ('transpose-1ce20af2cae8681225cd60a2d38315da', 21, 0)} (stimulus_id='handle-worker-cleanup-1733855581.6852794')\n",
      "2024-12-10 19:33:01,687 - distributed.scheduler - WARNING - Removing worker 'tcp://127.0.0.1:46807' caused the cluster to lose already computed task(s), which will be recomputed elsewhere: {('transpose-abc76ff9aa40c83a8fe04e81f638a5f1', 23, 0), ('transpose-abc76ff9aa40c83a8fe04e81f638a5f1', 24, 0), ('_trim-151b707e02d9935f1acff686b570b313', 24, 0), ('transpose-1ce20af2cae8681225cd60a2d38315da', 24, 0), ('transpose-24b3232b2164dbdc36663306593b64d1', 24, 0), ('transpose-9751b33b295dc47eac5b025839d4a25f', 23, 0), ('transpose-9751b33b295dc47eac5b025839d4a25f', 24, 0)} (stimulus_id='handle-worker-cleanup-1733855581.6873462')\n",
      "2024-12-10 19:33:01,689 - distributed.scheduler - WARNING - Removing worker 'tcp://127.0.0.1:32977' caused the cluster to lose already computed task(s), which will be recomputed elsewhere: {('transpose-24b3232b2164dbdc36663306593b64d1', 22, 0), ('transpose-9751b33b295dc47eac5b025839d4a25f', 22, 0), ('transpose-abc76ff9aa40c83a8fe04e81f638a5f1', 22, 0), ('_trim-151b707e02d9935f1acff686b570b313', 22, 0), ('transpose-1ce20af2cae8681225cd60a2d38315da', 22, 0)} (stimulus_id='handle-worker-cleanup-1733855581.6894555')\n",
      "2024-12-10 19:33:01,691 - distributed.scheduler - WARNING - Removing worker 'tcp://127.0.0.1:39993' caused the cluster to lose already computed task(s), which will be recomputed elsewhere: {('transpose-abc76ff9aa40c83a8fe04e81f638a5f1', 7, 0), ('transpose-1ce20af2cae8681225cd60a2d38315da', 7, 0), ('transpose-24b3232b2164dbdc36663306593b64d1', 7, 0), ('transpose-9751b33b295dc47eac5b025839d4a25f', 7, 0), ('_trim-151b707e02d9935f1acff686b570b313', 7, 0)} (stimulus_id='handle-worker-cleanup-1733855581.6918702')\n",
      "2024-12-10 19:33:01,693 - distributed.scheduler - WARNING - Removing worker 'tcp://127.0.0.1:33141' caused the cluster to lose already computed task(s), which will be recomputed elsewhere: {('transpose-1ce20af2cae8681225cd60a2d38315da', 23, 0), ('transpose-24b3232b2164dbdc36663306593b64d1', 9, 0)} (stimulus_id='handle-worker-cleanup-1733855581.6937103')\n",
      "2024-12-10 19:33:01,695 - distributed.scheduler - WARNING - Removing worker 'tcp://127.0.0.1:39561' caused the cluster to lose already computed task(s), which will be recomputed elsewhere: {('transpose-9751b33b295dc47eac5b025839d4a25f', 26, 0), ('transpose-abc76ff9aa40c83a8fe04e81f638a5f1', 26, 0), ('transpose-1ce20af2cae8681225cd60a2d38315da', 26, 0), ('transpose-24b3232b2164dbdc36663306593b64d1', 26, 0), ('_trim-151b707e02d9935f1acff686b570b313', 26, 0)} (stimulus_id='handle-worker-cleanup-1733855581.6954505')\n",
      "2024-12-10 19:33:01,699 - distributed.scheduler - ERROR - Task ('array-d728e26d02b0939ceaf5c39e8219709e', 0) marked as failed because 4 workers died while trying to run it\n",
      "2024-12-10 19:33:01,699 - distributed.scheduler - WARNING - Removing worker 'tcp://127.0.0.1:40289' caused the cluster to lose already computed task(s), which will be recomputed elsewhere: {('transpose-9751b33b295dc47eac5b025839d4a25f', 30, 0), ('transpose-abc76ff9aa40c83a8fe04e81f638a5f1', 30, 0), ('transpose-1ce20af2cae8681225cd60a2d38315da', 30, 0), ('transpose-24b3232b2164dbdc36663306593b64d1', 30, 0), ('_trim-151b707e02d9935f1acff686b570b313', 30, 0)} (stimulus_id='handle-worker-cleanup-1733855581.6973476')\n",
      "2024-12-10 19:33:01,713 - distributed.scheduler - WARNING - Removing worker 'tcp://127.0.0.1:38631' caused the cluster to lose already computed task(s), which will be recomputed elsewhere: {('transpose-abc76ff9aa40c83a8fe04e81f638a5f1', 9, 0), ('transpose-9751b33b295dc47eac5b025839d4a25f', 9, 0), ('transpose-24b3232b2164dbdc36663306593b64d1', 23, 0), ('transpose-1ce20af2cae8681225cd60a2d38315da', 9, 0), ('_trim-151b707e02d9935f1acff686b570b313', 9, 0)} (stimulus_id='handle-worker-cleanup-1733855581.7129674')\n",
      "2024-12-10 19:33:01,715 - distributed.scheduler - WARNING - Removing worker 'tcp://127.0.0.1:44385' caused the cluster to lose already computed task(s), which will be recomputed elsewhere: {('transpose-1ce20af2cae8681225cd60a2d38315da', 0, 0), ('transpose-abc76ff9aa40c83a8fe04e81f638a5f1', 0, 0), ('_trim-151b707e02d9935f1acff686b570b313', 0, 0), ('transpose-9751b33b295dc47eac5b025839d4a25f', 0, 0), ('transpose-24b3232b2164dbdc36663306593b64d1', 0, 0)} (stimulus_id='handle-worker-cleanup-1733855581.7155914')\n",
      "2024-12-10 19:33:01,717 - distributed.scheduler - ERROR - Task ('original-sub-c5e4f152913a34b5e44426b7abbe9179', 0, 0) marked as failed because 4 workers died while trying to run it\n",
      "2024-12-10 19:33:01,717 - distributed.scheduler - WARNING - Removing worker 'tcp://127.0.0.1:45995' caused the cluster to lose already computed task(s), which will be recomputed elsewhere: {('transpose-1ce20af2cae8681225cd60a2d38315da', 1, 0), ('transpose-24b3232b2164dbdc36663306593b64d1', 1, 0), ('_trim-151b707e02d9935f1acff686b570b313', 23, 0), ('transpose-9751b33b295dc47eac5b025839d4a25f', 1, 0), ('transpose-abc76ff9aa40c83a8fe04e81f638a5f1', 1, 0), ('_trim-151b707e02d9935f1acff686b570b313', 1, 0)} (stimulus_id='handle-worker-cleanup-1733855581.7169847')\n",
      "2024-12-10 19:33:01,734 - distributed.scheduler - WARNING - Removing worker 'tcp://127.0.0.1:36243' caused the cluster to lose already computed task(s), which will be recomputed elsewhere: {('transpose-24b3232b2164dbdc36663306593b64d1', 6, 0), ('transpose-1ce20af2cae8681225cd60a2d38315da', 6, 0), ('transpose-9751b33b295dc47eac5b025839d4a25f', 6, 0), ('transpose-abc76ff9aa40c83a8fe04e81f638a5f1', 6, 0), ('_trim-151b707e02d9935f1acff686b570b313', 6, 0)} (stimulus_id='handle-worker-cleanup-1733855581.7342443')\n",
      "2024-12-10 19:33:01,741 - distributed.scheduler - ERROR - Task ('array-7975d6d91640ce705b00e8ac05503d02', 0) marked as failed because 4 workers died while trying to run it\n",
      "2024-12-10 19:33:01,742 - distributed.scheduler - ERROR - Task ('array-2b640e55e2698d53531805e203024fbf', 0) marked as failed because 4 workers died while trying to run it\n",
      "2024-12-10 19:33:01,743 - distributed.scheduler - ERROR - Task ('array-d728e26d02b0939ceaf5c39e8219709e', 1) marked as failed because 4 workers died while trying to run it\n",
      "2024-12-10 19:33:01,743 - distributed.scheduler - ERROR - Task ('original-open_dataset-lat-293585830ca8d2a6becd7de1f156034e', 0) marked as failed because 4 workers died while trying to run it\n",
      "2024-12-10 19:33:01,744 - distributed.scheduler - WARNING - Removing worker 'tcp://127.0.0.1:43825' caused the cluster to lose already computed task(s), which will be recomputed elsewhere: {('transpose-9751b33b295dc47eac5b025839d4a25f', 15, 0), ('transpose-abc76ff9aa40c83a8fe04e81f638a5f1', 15, 0), ('_trim-151b707e02d9935f1acff686b570b313', 15, 0), ('transpose-1ce20af2cae8681225cd60a2d38315da', 15, 0), ('transpose-24b3232b2164dbdc36663306593b64d1', 15, 0)} (stimulus_id='handle-worker-cleanup-1733855581.7411966')\n"
     ]
    }
   ],
   "source": [
    "# Start Dask Cluster\n",
    "client = hpc.StartLocalCluster(n_workers=32, n_threads=1)"
   ]
  },
  {
   "cell_type": "code",
   "execution_count": null,
   "id": "66a21e23-427a-4f6f-9a91-fa2ae628f148",
   "metadata": {
    "notebookRunGroups": {
     "groupValue": "1"
    },
    "tags": []
   },
   "outputs": [],
   "source": [
    "# Load Pre-processed Data (cf. `01_preprocess_extremes.ipynb`)\n",
    "\n",
    "file_name = Path('/scratch') / getuser()[0] / getuser() / 'mhws' / 'extreme_events_binary_unstruct.zarr'\n",
    "chunk_size = {'time': 4, 'lat': -1, 'lon': -1}\n",
    "ds = xr.open_zarr(str(file_name), chunks=chunk_size).isel(time=slice(0,128))"
   ]
  },
  {
   "cell_type": "code",
   "execution_count": null,
   "id": "ff7e8fc5",
   "metadata": {},
   "outputs": [],
   "source": [
    "# Tracking Parameters\n",
    "\n",
    "drop_area_quartile = 0.5  # Remove the smallest 50% of the identified blobs\n",
    "hole_filling_radius = 32   # Fill small holes with radius < 8 elements\n",
    "time_gap_fill = 2         # Allow gaps of 2 days and still continue the blob tracking with the same ID\n",
    "allow_merging = True      # Allow blobs to split/merge. Keeps track of merge events & unique IDs.\n",
    "overlap_threshold = 0.5   # Overlap threshold for merging blobs. If overlap < threshold, blobs keep independent IDs.\n",
    "nn_partitioning = True    # Use new NN method to partition merged children blobs. If False, reverts to old method of Di Sun et al. 2023..."
   ]
  },
  {
   "cell_type": "code",
   "execution_count": null,
   "id": "eb7934cc",
   "metadata": {},
   "outputs": [],
   "source": [
    "# SpOt & Track the Blobs & Merger Events\n",
    "\n",
    "tracker = blob.Spotter(ds.extreme_events, ds.mask, R_fill=hole_filling_radius, T_fill = time_gap_fill, area_filter_quartile=drop_area_quartile, \n",
    "                       allow_merging=allow_merging, overlap_threshold=overlap_threshold, nn_partitioning=nn_partitioning, \n",
    "                       xdim='ncells',               # Need to tell spot_the_blOb the new Unstructured dimension\n",
    "                       unstructured_grid=True,      # Use Unstructured Grid\n",
    "                       neighbours=ds.neighbours)    # Connectivity array for the Unstructured Grid\n",
    "# blobs = tracker.run(return_merges=False)\n",
    "\n",
    "# blobs"
   ]
  },
  {
   "cell_type": "code",
   "execution_count": null,
   "id": "7f42b530",
   "metadata": {},
   "outputs": [],
   "source": [
    "data_bin_filled = tracker.fill_holes().persist()\n",
    "data_bin_filled"
   ]
  },
  {
   "cell_type": "code",
   "execution_count": null,
   "metadata": {},
   "outputs": [],
   "source": [
    "data_bin_gap_filled = tracker.fill_time_gaps(data_bin_filled).persist()\n",
    "data_bin_gap_filled"
   ]
  },
  {
   "cell_type": "code",
   "execution_count": null,
   "id": "74003e42",
   "metadata": {},
   "outputs": [],
   "source": [
    "data_bin_filtered, area_threshold, blob_areas, N_blobs_unfiltered = tracker.filter_small_blobs(data_bin_gap_filled)"
   ]
  },
  {
   "cell_type": "code",
   "execution_count": null,
   "id": "55bb7234",
   "metadata": {},
   "outputs": [],
   "source": [
    "data_bin_filtered = data_bin_filtered.persist()"
   ]
  },
  {
   "cell_type": "code",
   "execution_count": null,
   "id": "22a6f8d8",
   "metadata": {},
   "outputs": [],
   "source": []
  },
  {
   "cell_type": "code",
   "execution_count": null,
   "metadata": {},
   "outputs": [],
   "source": []
  },
  {
   "cell_type": "code",
   "execution_count": null,
   "id": "c88a6d6a",
   "metadata": {},
   "outputs": [],
   "source": [
    "# Save Tracked Blobs to `zarr` for more efficient parallel I/O\n",
    "\n",
    "file_name = Path('/scratch') / getuser()[0] / getuser() / 'mhws' / 'MHWs_tracked_unstruct.zarr'\n",
    "blobs.to_zarr(file_name, mode='w')"
   ]
  }
 ],
 "metadata": {
  "kernelspec": {
   "display_name": "Python 3 (ipykernel)",
   "language": "python",
   "name": "python3"
  },
  "language_info": {
   "codemirror_mode": {
    "name": "ipython",
    "version": 3
   },
   "file_extension": ".py",
   "mimetype": "text/x-python",
   "name": "python",
   "nbconvert_exporter": "python",
   "pygments_lexer": "ipython3",
   "version": "3.10.12"
  }
 },
 "nbformat": 4,
 "nbformat_minor": 5
}
