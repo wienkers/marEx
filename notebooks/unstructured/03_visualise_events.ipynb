{
 "cells": [
  {
   "cell_type": "markdown",
   "metadata": {},
   "source": [
    "# Some Fun Visualisations of the Tracked Marine Heatwaves"
   ]
  },
  {
   "cell_type": "code",
   "execution_count": 1,
   "metadata": {},
   "outputs": [],
   "source": [
    "import xarray as xr\n",
    "import numpy as np\n",
    "import dask\n",
    "from getpass import getuser\n",
    "from pathlib import Path\n",
    "\n",
    "import spot_the_blOb.helper as hpc\n",
    "from spot_the_blOb.plotter import marEx_plotter, set_grid_path\n",
    "\n",
    "from matplotlib.colors import ListedColormap"
   ]
  },
  {
   "cell_type": "code",
   "execution_count": null,
   "id": "7df4418b",
   "metadata": {},
   "outputs": [],
   "source": [
    "# Start Dask Cluster\n",
    "client = hpc.StartLocalCluster(n_workers=32, n_threads=1)"
   ]
  },
  {
   "cell_type": "code",
   "execution_count": 3,
   "id": "6856409c",
   "metadata": {},
   "outputs": [],
   "source": [
    "# Directories\n",
    "scratch_dir = Path('/scratch') / getuser()[0] / getuser()\n",
    "\n",
    "fpath_tgrid = scratch_dir / 'grid_files' / 'fpath_tgrid.zarr'\n",
    "fpath_ckdtree = scratch_dir / 'grid_files' / 'ckdtree'\n",
    "MHW_dataset = scratch_dir / 'mhws' / 'MHWs_tracked_unstruct.zarr'"
   ]
  },
  {
   "cell_type": "code",
   "execution_count": 4,
   "id": "9a716f6c",
   "metadata": {},
   "outputs": [],
   "source": [
    "# Set up Unstructured Grid\n",
    "set_grid_path(fpath_tgrid, fpath_ckdtree)"
   ]
  },
  {
   "cell_type": "code",
   "execution_count": null,
   "metadata": {},
   "outputs": [],
   "source": [
    "# Import Tracked MHW DataSet\n",
    "blobs_ds = xr.open_zarr(str(MHW_dataset), chunks={})\n",
    "blobs_ds"
   ]
  },
  {
   "cell_type": "code",
   "execution_count": null,
   "id": "1957b80e",
   "metadata": {},
   "outputs": [],
   "source": [
    "# Extract the MHW ID Field\n",
    "blobs = blobs_ds.ID_field\n",
    "blobs"
   ]
  },
  {
   "cell_type": "code",
   "execution_count": null,
   "id": "61966bfe",
   "metadata": {},
   "outputs": [],
   "source": [
    "blobs.isel(time=10).plotter.pplot()"
   ]
  },
  {
   "cell_type": "code",
   "execution_count": null,
   "id": "778f4ee3",
   "metadata": {},
   "outputs": [],
   "source": []
  },
  {
   "cell_type": "code",
   "execution_count": null,
   "metadata": {},
   "outputs": [],
   "source": []
  },
  {
   "cell_type": "code",
   "execution_count": null,
   "metadata": {},
   "outputs": [],
   "source": []
  },
  {
   "cell_type": "code",
   "execution_count": null,
   "metadata": {},
   "outputs": [],
   "source": [
    "blobbys = blobs.isel(time=slice(10,17))\n",
    "blobbys = blobbys.where(blobbys>0) \n",
    "fig, ax = blobbys.plotter.pplot_col(plot_IDs=True, col_wrap=3, show_colorbar=False)"
   ]
  },
  {
   "cell_type": "code",
   "execution_count": null,
   "id": "ee12e073",
   "metadata": {},
   "outputs": [],
   "source": []
  },
  {
   "cell_type": "code",
   "execution_count": null,
   "id": "36d2d0b3",
   "metadata": {},
   "outputs": [],
   "source": []
  },
  {
   "cell_type": "code",
   "execution_count": null,
   "metadata": {},
   "outputs": [],
   "source": []
  },
  {
   "cell_type": "code",
   "execution_count": null,
   "metadata": {},
   "outputs": [],
   "source": []
  },
  {
   "cell_type": "code",
   "execution_count": null,
   "metadata": {},
   "outputs": [],
   "source": []
  },
  {
   "cell_type": "code",
   "execution_count": null,
   "metadata": {},
   "outputs": [],
   "source": []
  },
  {
   "cell_type": "code",
   "execution_count": null,
   "id": "ef577486",
   "metadata": {},
   "outputs": [],
   "source": []
  },
  {
   "cell_type": "code",
   "execution_count": null,
   "id": "9ae3e8e9",
   "metadata": {},
   "outputs": [],
   "source": []
  },
  {
   "cell_type": "code",
   "execution_count": null,
   "id": "c6470232",
   "metadata": {},
   "outputs": [],
   "source": []
  },
  {
   "cell_type": "code",
   "execution_count": null,
   "metadata": {},
   "outputs": [],
   "source": []
  },
  {
   "cell_type": "code",
   "execution_count": null,
   "metadata": {},
   "outputs": [],
   "source": []
  },
  {
   "cell_type": "markdown",
   "id": "727a087b",
   "metadata": {},
   "source": [
    "## Make a Nice Blobby Movie\n",
    "N.B.: Making `dask`-powered movies using `pplot_mov()` cannot be threaded !"
   ]
  },
  {
   "cell_type": "code",
   "execution_count": null,
   "id": "2597504b",
   "metadata": {},
   "outputs": [],
   "source": [
    "plot_dir = Path('/scratch') / getuser()[0] / getuser() / 'mhws' / 'plots'\n",
    "time_slice = slice('2024-01-01', '2026-01-01')"
   ]
  },
  {
   "cell_type": "code",
   "execution_count": null,
   "id": "b1e6ea0a",
   "metadata": {},
   "outputs": [],
   "source": [
    "blobs_subset = blobs.sel(time=time_slice)\n",
    "blobs_subset = blobs_subset.where(blobs_subset > 0)\n",
    "blobs_subset.plotter.pplot_mov(plot_dir=plot_dir, plot_IDs=True)"
   ]
  },
  {
   "cell_type": "code",
   "execution_count": null,
   "id": "2f64ffbc",
   "metadata": {},
   "outputs": [],
   "source": [
    "%%HTML\n",
    "<video width=\"640\" height=\"480\" controls>\n",
    "    <source src=\"./plots/movie_ID_field.mp4\" type=\"video/mp4\">\n",
    "    Your browser does not support the video tag.\n",
    "</video>"
   ]
  },
  {
   "cell_type": "markdown",
   "id": "dd87d2ad",
   "metadata": {},
   "source": [
    "## Plot Consecutive Days of Blobby Shapes"
   ]
  },
  {
   "cell_type": "code",
   "execution_count": null,
   "id": "b093922d",
   "metadata": {},
   "outputs": [],
   "source": [
    "blobbys = blobs.sel(time=slice('2025-01-01', '2025-01-06'))\n",
    "blobbys = blobbys.where(blobbys>0) \n",
    "fig, ax = blobbys.plotter.pplot_col(plot_IDs=True, col_wrap=3, show_colorbar=False)"
   ]
  },
  {
   "cell_type": "markdown",
   "id": "2cd0fd1d",
   "metadata": {},
   "source": [
    "## Plot some Blobby Shapes (1 Each Month)"
   ]
  },
  {
   "cell_type": "code",
   "execution_count": null,
   "id": "34d9815a",
   "metadata": {},
   "outputs": [],
   "source": [
    "blobs_day1 = blobs.sel(time=slice('2025-01-01', '2025-12-31')).resample(time='MS').first()\n",
    "blobs_day1 = blobs_day1.where(blobs_day1>0)\n",
    "fig, ax = blobs_day1.plotter.pplot_col(plot_IDs=True, col_wrap=3, show_colorbar=False)\n"
   ]
  },
  {
   "cell_type": "markdown",
   "id": "76e6daa4",
   "metadata": {},
   "source": [
    "## Global Blob Frequency"
   ]
  },
  {
   "cell_type": "code",
   "execution_count": null,
   "id": "0ab2798a",
   "metadata": {},
   "outputs": [],
   "source": [
    "event_frequency = (blobs > 0).astype(float).mean('time')\n",
    "fig, ax = event_frequency.plotter.pplot(var_units='MHW Frequency', cmap='hot_r', cperc=[0,96])"
   ]
  },
  {
   "cell_type": "markdown",
   "id": "1bb4209c",
   "metadata": {},
   "source": [
    "## Find & Plot a Few of the Longest Events"
   ]
  },
  {
   "cell_type": "code",
   "execution_count": null,
   "id": "31a1c1eb",
   "metadata": {},
   "outputs": [],
   "source": [
    "events_duration = blobs_ds.time_end - blobs_ds.time_start\n",
    "longest_events = events_duration.sortby(events_duration, ascending=False).ID\n",
    "\n",
    "for ID in longest_events[:10].values:\n",
    "    print(f\"ID: {ID:<6}   Start Day: {blobs_ds.time_start.sel(ID=ID).dt.strftime('%Y-%m-%d').values}  -->  Duration: {events_duration.sel(ID=ID).dt.days.values:<4} days\")"
   ]
  },
  {
   "cell_type": "code",
   "execution_count": null,
   "id": "b9cf4612",
   "metadata": {},
   "outputs": [],
   "source": [
    "long_blobs = blobs == (longest_events[:9]).chunk({'ID':1})\n",
    "long_blobs_local_duration = (long_blobs > 0).sum('time')\n",
    "\n",
    "fig, ax = long_blobs_local_duration.plotter.pplot_col(col='ID', col_wrap=3, var_units='Duration (days)', cmap='hot_r', cperc=[0, 100])"
   ]
  },
  {
   "cell_type": "markdown",
   "id": "b9cf4612",
   "metadata": {},
   "source": [
    "## Time-Series Plot of Events Area"
   ]
  },
  {
   "cell_type": "code",
   "execution_count": null,
   "id": "33b4d4fc",
   "metadata": {},
   "outputs": [],
   "source": [
    "events_areas = blobs_ds.area * 1.0e5/16.0 # km^2 (very rough estimate, since \"area\" here is in units of 0.25x0.25 degree grid cells...)\n",
    "\n",
    "area_mean = events_areas.mean('ID').resample(time='ME').mean()\n",
    "\n",
    "area_10 = events_areas.reduce(np.nanpercentile, q=10, dim='ID').resample(time='ME').mean()\n",
    "area_90 = events_areas.reduce(np.nanpercentile, q=90, dim='ID').resample(time='ME').mean()\n",
    "\n",
    "plt.figure(figsize=(15, 6))\n",
    "area_mean.plot(label='Mean Area', color='k', lw=2)\n",
    "plt.fill_between(area_mean.time.values, area_10, area_90, alpha=0.5)\n",
    "#plt.yscale('log')\n",
    "plt.ylim([0, 8e7])\n",
    "plt.ylabel('Rough Event Area [km^2]')\n"
   ]
  },
  {
   "cell_type": "markdown",
   "id": "41823d9a",
   "metadata": {},
   "source": [
    "## Hovmüller Plot of MHW Monthly Frequency vs Latitude"
   ]
  },
  {
   "cell_type": "code",
   "execution_count": null,
   "id": "9e0aba2e",
   "metadata": {},
   "outputs": [],
   "source": [
    "spatial_presence = (blobs > 0).mean(dim='lon').resample(time='ME').mean()\n",
    "\n",
    "fig, ax = plt.subplots(figsize=(15, 6))\n",
    "im = spatial_presence.plot(ax=ax, cmap='hot', x='time',\n",
    "    cbar_kwargs={\n",
    "        'label': 'MHW Presence Frequency',\n",
    "        'extend': 'both'})\n",
    "\n",
    "ax.set_xlabel('Time')\n",
    "ax.set_ylabel('Latitude')\n",
    "ax.grid(True, linestyle='--', alpha=0.6)\n"
   ]
  },
  {
   "cell_type": "markdown",
   "id": "67c84ed4",
   "metadata": {},
   "source": [
    "## Seasonal Cycle of MHW vs Latitude"
   ]
  },
  {
   "cell_type": "code",
   "execution_count": null,
   "id": "3f0d3ffd",
   "metadata": {},
   "outputs": [],
   "source": [
    "spatial_presence_seasonal = (blobs > 0).mean(dim='lon').groupby('time.dayofyear').mean()\n",
    "\n",
    "fig, ax = plt.subplots(figsize=(15, 6))\n",
    "im = spatial_presence_seasonal.plot(ax=ax, cmap='hot', x='dayofyear',\n",
    "    cbar_kwargs={\n",
    "        'label': 'MHW Seasonal Frequency',\n",
    "        'extend': 'both'})\n",
    "\n",
    "months = ['Jan', 'Feb', 'Mar', 'Apr', 'May', 'Jun', \n",
    "          'Jul', 'Aug', 'Sep', 'Oct', 'Nov', 'Dec']\n",
    "days_per_month = [31, 28, 31, 30, 31, 30, 31, 31, 30, 31, 30, 31]\n",
    "month_positions = np.cumsum([0] + days_per_month[:-1]) + 15\n",
    "\n",
    "ax.set_xticks(month_positions)\n",
    "ax.set_xticklabels(months)\n",
    "ax.set_xlabel('Month')\n",
    "ax.set_ylabel('Latitude')\n",
    "ax.grid(True, linestyle='--', alpha=0.6)\n"
   ]
  }
 ],
 "metadata": {
  "kernelspec": {
   "display_name": "Python 3 (ipykernel)",
   "language": "python",
   "name": "python3"
  },
  "language_info": {
   "codemirror_mode": {
    "name": "ipython",
    "version": 3
   },
   "file_extension": ".py",
   "mimetype": "text/x-python",
   "name": "python",
   "nbconvert_exporter": "python",
   "pygments_lexer": "ipython3",
   "version": "3.10.16"
  }
 },
 "nbformat": 4,
 "nbformat_minor": 5
}
