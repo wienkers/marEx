{
 "cells": [
  {
   "cell_type": "markdown",
   "id": "5b7d3a1a",
   "metadata": {},
   "source": [
    "# Identify & Track Marine Heatwaves using `spot_the_blOb`"
   ]
  },
  {
   "cell_type": "markdown",
   "id": "61028733",
   "metadata": {},
   "source": [
    "## Processing Steps:\n",
    "1. Fill holes in the binary data, using `dask_image.ndmorph` -- up to `R_fill` cells in radius.\n",
    "2. Filter out small objects -- area less than the `area_filter_quartile` of the distribution of objects.\n",
    "3. Identify objects in the binary data, using `dask_image.ndmeasure`.\n",
    "4. Manually connect objects across time, applying Sun et al. 2023 criteria:\n",
    "    - Connected Blobs must overlap by at least `overlap_threshold=50%` of the smaller blob.\n",
    "    - Merged Blobs retain their original ID, but split the blob based on parent centroid locality.\n",
    "5. Cluster and reduce the final object ID graph using `scipy.sparse.csgraph.connected_components`.\n",
    "\n",
    "N.B.: Exploits parallelised `Dask` operations with optimised chunking using `flox` for memory efficiency and speed \\\n",
    "N.N.B.: This example using 40 years of Daily outputs at 0.25° resolution takes ~6 minutes on 128 total cores."
   ]
  },
  {
   "cell_type": "code",
   "execution_count": 1,
   "id": "6b337539",
   "metadata": {},
   "outputs": [],
   "source": [
    "import xarray as xr\n",
    "import dask\n",
    "from getpass import getuser\n",
    "from pathlib import Path\n",
    "\n",
    "import spot_the_blOb as blob\n",
    "import spot_the_blOb.helper as hpc"
   ]
  },
  {
   "cell_type": "code",
   "execution_count": 2,
   "id": "310fd2ef",
   "metadata": {},
   "outputs": [
    {
     "name": "stdout",
     "output_type": "stream",
     "text": [
      "Memory per Worker: 7.86 GB\n",
      "Hostname is  l20134\n",
      "Forward Port = l20134:8787\n",
      "Dashboard Link: localhost:8787/status\n"
     ]
    }
   ],
   "source": [
    "# Start Dask Cluster\n",
    "client = hpc.StartLocalCluster(n_workers=32, n_threads=2)"
   ]
  },
  {
   "cell_type": "code",
   "execution_count": 3,
   "id": "66a21e23-427a-4f6f-9a91-fa2ae628f148",
   "metadata": {
    "tags": []
   },
   "outputs": [],
   "source": [
    "# Load Pre-processed Data (cf. `01_preprocess_extremes.ipynb`)\n",
    "\n",
    "file_name = Path('/scratch') / getuser()[0] / getuser() / 'mhws' / 'extreme_events_binary.zarr'\n",
    "chunk_size = {'time': 25, 'lat': -1, 'lon': -1}\n",
    "ds = xr.open_zarr(str(file_name), chunks=chunk_size)"
   ]
  },
  {
   "cell_type": "code",
   "execution_count": 4,
   "id": "93364dbb",
   "metadata": {},
   "outputs": [],
   "source": [
    "# Extract Binary Features and Modify Mask\n",
    "\n",
    "extreme_bin = ds.extreme_events.isel(time=slice(0, 100))\n",
    "mask = ds.mask.where((ds.lat<85) & (ds.lat>-90), other=False)"
   ]
  },
  {
   "cell_type": "code",
   "execution_count": 5,
   "id": "ff7e8fc5",
   "metadata": {},
   "outputs": [],
   "source": [
    "# Tracking Parameters\n",
    "\n",
    "drop_area_quartile = 0.5\n",
    "filling_radius = 8\n",
    "allow_merging = True"
   ]
  },
  {
   "cell_type": "code",
   "execution_count": 6,
   "id": "f48aeaf0",
   "metadata": {},
   "outputs": [],
   "source": [
    "# Spot the Blobs\n",
    "\n",
    "tracker = blob.Spotter(extreme_bin, mask, R_fill=filling_radius, area_filter_quartile=drop_area_quartile, allow_merging=allow_merging)\n",
    "#blobs = tracker.run()\n",
    "\n",
    "#blobs"
   ]
  },
  {
   "cell_type": "code",
   "execution_count": 7,
   "id": "02db4236",
   "metadata": {},
   "outputs": [],
   "source": [
    "data_bin_filled = tracker.fill_holes()"
   ]
  },
  {
   "cell_type": "code",
   "execution_count": 8,
   "id": "c2c23d2a",
   "metadata": {},
   "outputs": [],
   "source": [
    "data_bin_filtered, area_threshold, blob_areas, N_blobs_unfiltered = tracker.filter_small_blobs(data_bin_filled)"
   ]
  },
  {
   "cell_type": "code",
   "execution_count": 9,
   "id": "ad63e227",
   "metadata": {},
   "outputs": [],
   "source": [
    "data_bin = data_bin_filtered"
   ]
  },
  {
   "cell_type": "code",
   "execution_count": 10,
   "id": "e3ec974d",
   "metadata": {},
   "outputs": [],
   "source": [
    "blob_id_field, _ = tracker.identify_blobs(data_bin, time_connectivity=False)"
   ]
  },
  {
   "cell_type": "code",
   "execution_count": 11,
   "id": "71ff68d3",
   "metadata": {},
   "outputs": [],
   "source": [
    "import numpy as np\n",
    "import matplotlib.pyplot as plt"
   ]
  },
  {
   "cell_type": "code",
   "execution_count": 12,
   "metadata": {},
   "outputs": [],
   "source": [
    "# Calculate Properties of each Blob\n",
    "blob_props = tracker.calculate_blob_properties(blob_id_field, properties=['area', 'centroid'])\n"
   ]
  },
  {
   "cell_type": "code",
   "execution_count": 13,
   "id": "d2ac7f9a",
   "metadata": {},
   "outputs": [],
   "source": [
    "\n",
    "# Compile List of Overlapping Blob ID Pairs Across Time\n",
    "overlap_blobs_list = tracker.find_overlapping_blobs(blob_id_field)  # List of overlapping blob pairs\n"
   ]
  },
  {
   "cell_type": "code",
   "execution_count": null,
   "id": "1a0b0954",
   "metadata": {},
   "outputs": [],
   "source": []
  },
  {
   "cell_type": "code",
   "execution_count": 14,
   "id": "f1289300",
   "metadata": {},
   "outputs": [],
   "source": [
    "from numba import jit, prange\n",
    "@jit(nopython=True, parallel=True, fastmath=True)\n",
    "def wrapped_euclidian_parallel(mask_values, parent_centroids_values, Nx):\n",
    "    \"\"\"\n",
    "    Optimised function for computing wrapped Euclidean distances.\n",
    "    \n",
    "    Parameters:\n",
    "    -----------\n",
    "    mask_values : np.ndarray\n",
    "        2D boolean array where True indicates points to calculate distances for\n",
    "    parent_centroids_values : np.ndarray\n",
    "        Array of shape (n_parents, 2) containing (y, x) coordinates of parent centroids\n",
    "    Nx : int\n",
    "        Size of the x-dimension for wrapping\n",
    "        \n",
    "    Returns:\n",
    "    --------\n",
    "    distances : np.ndarray\n",
    "        Array of shape (n_true_points, n_parents) with minimum distances\n",
    "    \"\"\"\n",
    "    n_parents = len(parent_centroids_values)\n",
    "    half_Nx = Nx / 2\n",
    "    \n",
    "    y_indices, x_indices = np.nonzero(mask_values)\n",
    "    n_true = len(y_indices)\n",
    "    \n",
    "    distances = np.empty((n_true, n_parents), dtype=np.float64)\n",
    "    \n",
    "    # Precompute for faster access\n",
    "    parent_y = parent_centroids_values[:, 0]\n",
    "    parent_x = parent_centroids_values[:, 1]\n",
    "    \n",
    "    # Parallel loop over true positions\n",
    "    for idx in prange(n_true):\n",
    "        y, x = y_indices[idx], x_indices[idx]\n",
    "        \n",
    "        # Pre-compute y differences for all parents\n",
    "        dy = y - parent_y\n",
    "        \n",
    "        # Pre-compute x differences for all parents\n",
    "        dx = x - parent_x\n",
    "        \n",
    "        # Wrapping correction\n",
    "        dx = np.where(dx > half_Nx, dx - Nx, dx)\n",
    "        dx = np.where(dx < -half_Nx, dx + Nx, dx)\n",
    "        \n",
    "        distances[idx] = np.sqrt(dy * dy + dx * dx)\n",
    "    \n",
    "    return distances"
   ]
  },
  {
   "cell_type": "code",
   "execution_count": 15,
   "id": "2eab7487",
   "metadata": {},
   "outputs": [],
   "source": [
    "# split_merged_blob_id_field_unique, merged_blobs_props, split_merged_blobs_list, merged_blobs_ledger = tracker.split_and_merge_blobs(blob_id_field, blob_props, overlap_blobs_list)\n"
   ]
  },
  {
   "cell_type": "code",
   "execution_count": 16,
   "id": "092a47b6",
   "metadata": {},
   "outputs": [],
   "source": [
    "blob_id_field_unique = blob_id_field"
   ]
  },
  {
   "cell_type": "code",
   "execution_count": 17,
   "id": "fc193f2d",
   "metadata": {},
   "outputs": [],
   "source": [
    "## Vectorised computation of overlap fractions\n",
    "areas_0 = blob_props['area'].sel(ID=overlap_blobs_list[:, 0]).values\n",
    "areas_1 = blob_props['area'].sel(ID=overlap_blobs_list[:, 1]).values\n",
    "min_areas = np.minimum(areas_0, areas_1)\n",
    "overlap_fractions = overlap_blobs_list[:, 2].astype(float) / min_areas\n",
    "\n",
    "## Filter out the overlaps that are too small\n",
    "overlap_blobs_list = overlap_blobs_list[overlap_fractions >= tracker.overlap_threshold]"
   ]
  },
  {
   "cell_type": "code",
   "execution_count": 18,
   "id": "4c360ec7",
   "metadata": {},
   "outputs": [
    {
     "name": "stderr",
     "output_type": "stream",
     "text": [
      "/home/b/b382615/opt/spot_the_blOb/spot_the_blOb/spot_the_blOb.py:629: FutureWarning: ``output_sizes`` should be given in the ``dask_gufunc_kwargs`` parameter. It will be removed as direct parameter in a future version.\n",
      "  unique_ids_by_time = xr.apply_ufunc(\n"
     ]
    }
   ],
   "source": [
    "## Initialise merge tracking structures\n",
    "merge_ledger = []                      # List of IDs of the 2 Merging Parents\n",
    "next_new_id = blob_props.ID.max().item() + 1  # Start new IDs after highest existing ID\n",
    "\n",
    "# Find all the Children (t+1 / RHS) elements that appear multiple times --> Indicates there are 2+ Parent Blobs...\n",
    "unique_children, children_counts = np.unique(overlap_blobs_list[:, 1], return_counts=True)\n",
    "merging_blobs = unique_children[children_counts > 1]\n",
    "\n",
    "# Pre-compute the child_time_idx & 2d_mask_id for each child_blob\n",
    "time_index_map = tracker.compute_id_time_dict(blob_id_field_unique, merging_blobs, next_new_id)\n",
    "Nx = blob_id_field_unique[tracker.xdim].size\n",
    "\n",
    "# Group blobs by time-chunk\n",
    "# -- Pre-condition: Blob IDs should be monotonically increasing in time...\n",
    "chunk_boundaries = np.cumsum([0] + list(blob_id_field_unique.chunks[0] ))\n",
    "blobs_by_chunk = {}\n",
    "for blob_id in merging_blobs:\n",
    "    # Find which chunk this time index belongs to\n",
    "    chunk_idx = np.searchsorted(chunk_boundaries, time_index_map[blob_id], side='right') - 1\n",
    "    blobs_by_chunk.setdefault(chunk_idx, []).append(blob_id)"
   ]
  },
  {
   "cell_type": "code",
   "execution_count": 19,
   "id": "226b7a82",
   "metadata": {},
   "outputs": [],
   "source": [
    "future_chunk_merges = []"
   ]
  },
  {
   "cell_type": "code",
   "execution_count": null,
   "id": "2479283e",
   "metadata": {},
   "outputs": [],
   "source": []
  },
  {
   "cell_type": "code",
   "execution_count": 20,
   "id": "2babff41",
   "metadata": {},
   "outputs": [],
   "source": [
    "chunk_idx = 0\n",
    "chunk_blobs = blobs_by_chunk[chunk_idx]\n",
    "chunk_start = sum(blob_id_field_unique.chunks[0][:chunk_idx])\n",
    "chunk_end = chunk_start + blob_id_field_unique.chunks[0][chunk_idx] + 1  #  We also want access to the blob_id_time_p1...  But need to remember to remove the last time later\n",
    "\n",
    "chunk_data = blob_id_field_unique.isel({tracker.timedim: slice(chunk_start, chunk_end)}).compute()"
   ]
  },
  {
   "cell_type": "code",
   "execution_count": 21,
   "id": "b2cf5451",
   "metadata": {},
   "outputs": [],
   "source": [
    "blobs_to_process = chunk_blobs.copy()\n",
    "# Combine only the future_chunk_merges that don't already appear in blobs_to_process\n",
    "blobs_to_process = blobs_to_process + [blob_id for blob_id in future_chunk_merges if blob_id not in blobs_to_process]  # First, assess the new blobs from the end of the previous chunk...\n",
    "future_chunk_merges = []"
   ]
  },
  {
   "cell_type": "code",
   "execution_count": null,
   "id": "ba558a8e",
   "metadata": {},
   "outputs": [],
   "source": []
  },
  {
   "cell_type": "code",
   "execution_count": 28,
   "id": "41c70c3e",
   "metadata": {},
   "outputs": [],
   "source": [
    "child_id = blobs_to_process.pop(0)  # Get next blob to process\n",
    "\n",
    "child_time_idx = time_index_map[child_id]\n",
    "relative_time_idx = child_time_idx - chunk_start\n",
    "\n",
    "blob_id_time = chunk_data.isel({tracker.timedim: relative_time_idx})\n",
    "blob_id_time_p1 = chunk_data.isel({tracker.timedim: relative_time_idx+1})\n",
    "\n",
    "child_mask_2d  = (blob_id_time == child_id).values\n",
    "\n",
    "# Find all pairs involving this Child Blob\n",
    "child_mask = overlap_blobs_list[:, 1] == child_id\n",
    "child_where = np.where(overlap_blobs_list[:, 1] == child_id)[0]  # Needed for assignment\n",
    "merge_group = overlap_blobs_list[child_mask]\n",
    "\n",
    "# Get all Parents (LHS) Blobs that overlap with this Child Blob -- N.B. This is now generalised for N-parent merging !\n",
    "parent_ids = merge_group[:, 0]\n",
    "num_parents = len(parent_ids)\n",
    "\n",
    "# Make a new ID for the other Half of the Child Blob & Record in the Merge Ledger\n",
    "new_blob_id = np.arange(next_new_id, next_new_id + (num_parents - 1), dtype=np.int32)\n",
    "next_new_id += num_parents - 1\n",
    "merge_ledger.append(parent_ids)\n",
    "\n",
    "# Replace the 2nd+ Child in the Overlap Blobs List with the new Child ID\n",
    "overlap_blobs_list[child_where[1:], 1] = new_blob_id    #overlap_blobs_list[child_mask, 1][1:] = new_blob_id\n",
    "child_ids = np.concatenate((np.array([child_id]), new_blob_id))    #np.array([child_id, new_blob_id])\n",
    "\n",
    "## Relabel the Original Child Blob ID Field to account for the New ID:\n",
    "# --> For every (Original) Child Cell in the ID Field, Measure the Distance to the Centroids of the Parents\n",
    "# --> Assign the ID for each Cell corresponding to the closest Parent\n",
    "\n",
    "parent_centroids = blob_props.sel(ID=parent_ids).centroid.values.T  # (y, x), [:,0] are the y's\n",
    "distances = wrapped_euclidian_parallel(child_mask_2d, parent_centroids, Nx)  # **Deals with wrapping**\n",
    "\n",
    "# Assign the new ID to each cell based on the closest parent\n",
    "new_labels = child_ids[np.argmin(distances, axis=1)]\n",
    "\n",
    "# Update values in child_time_idx and assign the updated slice back to the original DataArray\n",
    "temp = np.zeros_like(blob_id_time)\n",
    "temp[child_mask_2d] = new_labels\n",
    "blob_id_time = blob_id_time.where(~child_mask_2d, temp)\n",
    "## ** Update directly into the chunk\n",
    "chunk_data[{tracker.timedim: relative_time_idx}] = blob_id_time\n",
    "\n",
    "\n",
    "## Update the Properties of the N Children Blobs\n",
    "new_child_props = tracker.calculate_blob_properties(blob_id_time, properties=['area', 'centroid'])\n",
    "\n",
    "# Update the blob_props DataArray:  (but first, check if the original Children still exists)\n",
    "if child_id in new_child_props.ID:  # Update the entry\n",
    "    blob_props.loc[dict(ID=child_id)] = new_child_props.sel(ID=child_id)\n",
    "else:  # Delte child_id:  The blob has split/morphed such that it doesn't get a partition of this child...\n",
    "    blob_props = blob_props.drop_sel(ID=child_id)  # N.B.: This means that the IDs are no longer continuous...\n",
    "    print(f\"Deleted child_id {child_id} because parents have split/morphed in the meantime...\")\n",
    "# Add the properties for the N-1 other new child ID\n",
    "new_blob_ids_still = new_child_props.ID.where(new_child_props.ID.isin(new_blob_id), drop=True).ID\n",
    "blob_props = xr.concat([blob_props, new_child_props.sel(ID=new_blob_ids_still)], dim='ID')\n",
    "missing_ids = set(new_blob_id) - set(new_blob_ids_still.values)\n",
    "if len(missing_ids) > 0:\n",
    "    print(f\"Missing newly created child_ids {missing_ids} because parents have split/morphed in the meantime...\")\n",
    "\n",
    "\n",
    "## Finally, Re-assess all of the Parent IDs (LHS) equal to the (original) child_id\n",
    "\n",
    "# Look at the overlap IDs between the original child_id and the next time-step, and also the new_blob_id and the next time-step\n",
    "new_overlaps = tracker.check_overlap_slice(blob_id_time.values, blob_id_time_p1.values)\n",
    "new_child_overlaps_list = new_overlaps[(new_overlaps[:, 0] == child_id) | np.isin(new_overlaps[:, 0], new_blob_id)]\n",
    "\n",
    "# _Before_ replacing the overlap_blobs_list, we need to re-assess the overlap fractions of just the new_child_overlaps_list\n",
    "areas_0 = blob_props['area'].sel(ID=new_child_overlaps_list[:, 0]).values\n",
    "areas_1 = blob_props['area'].sel(ID=new_child_overlaps_list[:, 1]).values\n",
    "min_areas = np.minimum(areas_0, areas_1)\n",
    "overlap_fractions = new_child_overlaps_list[:, 2].astype(float) / min_areas\n",
    "new_child_overlaps_list = new_child_overlaps_list[overlap_fractions >= tracker.overlap_threshold]\n",
    "\n",
    "# Replace the lines in the overlap_blobs_list where (original) child_id is on the LHS, with these new pairs in new_child_overlaps_list\n",
    "child_mask_LHS = overlap_blobs_list[:, 0] == child_id\n",
    "overlap_blobs_list = np.concatenate([overlap_blobs_list[~child_mask_LHS], new_child_overlaps_list])\n",
    "\n",
    "\n"
   ]
  },
  {
   "cell_type": "code",
   "execution_count": 29,
   "id": "fa7e009f",
   "metadata": {},
   "outputs": [
    {
     "name": "stdout",
     "output_type": "stream",
     "text": [
      "[130]\n"
     ]
    }
   ],
   "source": [
    "## Finally, _FINALLY_, we need to ensure that of the new children blobs we made, they only overlap with their respective parent...\n",
    "new_unique_children, new_children_counts = np.unique(new_child_overlaps_list[:, 1], return_counts=True)\n",
    "new_merging_blobs = new_unique_children[new_children_counts > 1]\n",
    "print(new_merging_blobs)\n",
    "if new_merging_blobs.size > 0:\n",
    "    \n",
    "    if relative_time_idx + 1 < chunk_data.sizes[tracker.timedim]:  # If there is a next time-step in this chunk\n",
    "        for new_child_id in new_merging_blobs:\n",
    "            if new_child_id not in blobs_to_process: # We aren't already going to assess this blob\n",
    "                blobs_to_process.insert(0, new_child_id)\n",
    "    \n",
    "    else: # This is out of our current jurisdiction: Defer this reassessment to the beginning of the next chunk\n",
    "        future_chunk_merges.extend(new_merging_blobs)"
   ]
  },
  {
   "cell_type": "code",
   "execution_count": 30,
   "id": "621c935a",
   "metadata": {},
   "outputs": [
    {
     "data": {
      "text/plain": [
       "array([0.91808642, 0.95449621])"
      ]
     },
     "execution_count": 30,
     "metadata": {},
     "output_type": "execute_result"
    }
   ],
   "source": [
    "overlap_fractions"
   ]
  },
  {
   "cell_type": "code",
   "execution_count": 31,
   "id": "4945e3b6",
   "metadata": {},
   "outputs": [
    {
     "data": {
      "text/plain": [
       "array([[  120,   130, 14873],\n",
       "       [  980,   130,  4405]], dtype=int32)"
      ]
     },
     "execution_count": 31,
     "metadata": {},
     "output_type": "execute_result"
    }
   ],
   "source": [
    "new_child_overlaps_list"
   ]
  },
  {
   "cell_type": "code",
   "execution_count": 32,
   "id": "7e6db6ae",
   "metadata": {},
   "outputs": [
    {
     "data": {
      "text/plain": [
       "[130, 197, 210, 228, 235]"
      ]
     },
     "execution_count": 32,
     "metadata": {},
     "output_type": "execute_result"
    }
   ],
   "source": [
    "blobs_to_process"
   ]
  },
  {
   "cell_type": "code",
   "execution_count": 33,
   "id": "32065f72",
   "metadata": {},
   "outputs": [
    {
     "data": {
      "text/plain": [
       "array([107, 109], dtype=int32)"
      ]
     },
     "execution_count": 33,
     "metadata": {},
     "output_type": "execute_result"
    }
   ],
   "source": [
    "parent_ids"
   ]
  },
  {
   "cell_type": "code",
   "execution_count": null,
   "metadata": {},
   "outputs": [],
   "source": []
  },
  {
   "cell_type": "code",
   "execution_count": null,
   "id": "2ab3e067",
   "metadata": {},
   "outputs": [],
   "source": []
  },
  {
   "cell_type": "code",
   "execution_count": 38,
   "id": "9b0f3ec6",
   "metadata": {},
   "outputs": [
    {
     "data": {
      "text/plain": [
       "<matplotlib.collections.PolyCollection at 0x15525f70ce80>"
      ]
     },
     "execution_count": 38,
     "metadata": {},
     "output_type": "execute_result"
    },
    {
     "data": {
      "image/png": "[encoded data removed]",
      "text/plain": [
       "<Figure size 640x480 with 1 Axes>"
      ]
     },
     "metadata": {},
     "output_type": "display_data"
    }
   ],
   "source": [
    "plt.pcolor(blob_id_time_p1 == 130)"
   ]
  },
  {
   "cell_type": "code",
   "execution_count": 39,
   "id": "2d369648",
   "metadata": {},
   "outputs": [
    {
     "data": {
      "text/plain": [
       "<matplotlib.collections.PolyCollection at 0x1551710e9f30>"
      ]
     },
     "execution_count": 39,
     "metadata": {},
     "output_type": "execute_result"
    },
    {
     "data": {
      "image/png": "[encoded data removed]",
      "text/plain": [
       "<Figure size 640x480 with 1 Axes>"
      ]
     },
     "metadata": {},
     "output_type": "display_data"
    }
   ],
   "source": [
    "plt.pcolor(blob_id_time == 120)"
   ]
  },
  {
   "cell_type": "code",
   "execution_count": 40,
   "id": "04074eaf",
   "metadata": {},
   "outputs": [
    {
     "data": {
      "text/plain": [
       "<matplotlib.collections.PolyCollection at 0x1551d20520b0>"
      ]
     },
     "execution_count": 40,
     "metadata": {},
     "output_type": "execute_result"
    },
    {
     "data": {
      "image/png": "[encoded data removed]",
      "text/plain": [
       "<Figure size 640x480 with 1 Axes>"
      ]
     },
     "metadata": {},
     "output_type": "display_data"
    }
   ],
   "source": [
    "plt.pcolor(blob_id_time == 980)"
   ]
  },
  {
   "cell_type": "code",
   "execution_count": 41,
   "id": "ae641138",
   "metadata": {},
   "outputs": [],
   "source": [
    "blob_id_time_m1 = chunk_data.isel({tracker.timedim: relative_time_idx-1})"
   ]
  },
  {
   "cell_type": "code",
   "execution_count": 42,
   "id": "9a8f6b5a",
   "metadata": {},
   "outputs": [
    {
     "data": {
      "text/plain": [
       "<matplotlib.collections.PolyCollection at 0x1550c8a4f250>"
      ]
     },
     "execution_count": 42,
     "metadata": {},
     "output_type": "execute_result"
    },
    {
     "data": {
      "image/png": "[encoded data removed]",
      "text/plain": [
       "<Figure size 640x480 with 1 Axes>"
      ]
     },
     "metadata": {},
     "output_type": "display_data"
    }
   ],
   "source": [
    "plt.pcolor(blob_id_time_m1 == 107)"
   ]
  },
  {
   "cell_type": "code",
   "execution_count": 43,
   "id": "07f2c0e7",
   "metadata": {},
   "outputs": [
    {
     "data": {
      "text/plain": [
       "<matplotlib.collections.PolyCollection at 0x1550b0bd4190>"
      ]
     },
     "execution_count": 43,
     "metadata": {},
     "output_type": "execute_result"
    },
    {
     "data": {
      "image/png": "[encoded data removed]",
      "text/plain": [
       "<Figure size 640x480 with 1 Axes>"
      ]
     },
     "metadata": {},
     "output_type": "display_data"
    }
   ],
   "source": [
    "plt.pcolor(blob_id_time_m1 == 109)"
   ]
  },
  {
   "cell_type": "code",
   "execution_count": null,
   "metadata": {},
   "outputs": [],
   "source": []
  },
  {
   "cell_type": "code",
   "execution_count": null,
   "metadata": {},
   "outputs": [],
   "source": []
  },
  {
   "cell_type": "code",
   "execution_count": null,
   "id": "e6145a96",
   "metadata": {},
   "outputs": [],
   "source": []
  },
  {
   "cell_type": "code",
   "execution_count": null,
   "metadata": {},
   "outputs": [],
   "source": []
  },
  {
   "cell_type": "code",
   "execution_count": null,
   "metadata": {},
   "outputs": [],
   "source": []
  },
  {
   "cell_type": "code",
   "execution_count": null,
   "metadata": {},
   "outputs": [],
   "source": []
  },
  {
   "cell_type": "code",
   "execution_count": null,
   "metadata": {},
   "outputs": [],
   "source": []
  },
  {
   "cell_type": "code",
   "execution_count": null,
   "metadata": {},
   "outputs": [],
   "source": [
    "\n",
    "\n",
    "def map_IDs_to_indices(block, ID_to_cluster_index_array):\n",
    "    mask = block > 0\n",
    "    new_block = np.zeros_like(block, dtype=np.int32)\n",
    "    new_block[mask] = ID_to_cluster_index_array[block[mask]]\n",
    "    return new_block\n",
    "\n",
    "split_merged_relabeled_blob_id_field = xr.apply_ufunc(\n",
    "    map_IDs_to_indices,\n",
    "    blob_id_field_unique, \n",
    "    ID_to_cluster_index_da,\n",
    "    input_core_dims=[[tracker.ydim, tracker.xdim],['ID']],\n",
    "    output_core_dims=[[tracker.ydim, tracker.xdim]],\n",
    "    vectorize=True,\n",
    "    dask=\"parallelized\",\n",
    "    output_dtypes=[np.int32]\n",
    ")"
   ]
  },
  {
   "cell_type": "code",
   "execution_count": null,
   "id": "40b378b4",
   "metadata": {},
   "outputs": [],
   "source": []
  },
  {
   "cell_type": "code",
   "execution_count": null,
   "id": "17e818aa",
   "metadata": {},
   "outputs": [],
   "source": [
    "(split_merged_relabeled_blob_id_field == 1).any(dim={'lat','lon'}).plot()"
   ]
  },
  {
   "cell_type": "code",
   "execution_count": null,
   "id": "a227f70f",
   "metadata": {},
   "outputs": [],
   "source": [
    "### Relabel the blobs_props to match the new IDs (and add time dimension!)\n",
    "\n",
    "max_new_ID = num_components + 1  # New IDs range from 0 to max_new_ID...\n",
    "new_ids = np.arange(1, max_new_ID+1, dtype=np.int32)\n",
    "\n",
    "# New blobs_props DataSet Structure\n",
    "blobs_props_extended = xr.Dataset(coords={\n",
    "    'ID': new_ids,\n",
    "    tracker.timedim: blob_id_field_unique[tracker.timedim]\n",
    "})"
   ]
  },
  {
   "cell_type": "code",
   "execution_count": null,
   "id": "3c9414bf",
   "metadata": {},
   "outputs": [],
   "source": [
    "valid_new_ids = (split_merged_relabeled_blob_id_field > 0)      \n",
    "original_ids = blob_id_field_unique.where(valid_new_ids, 0).stack(z=(tracker.ydim, tracker.xdim), create_index=False)\n",
    "new_ids_field = split_merged_relabeled_blob_id_field.where(valid_new_ids, 0).stack(z=(tracker.ydim, tracker.xdim), create_index=False)\n",
    "\n",
    "id_mapping = xr.Dataset({\n",
    "    'original_id': original_ids,\n",
    "    'new_id': new_ids_field\n",
    "})"
   ]
  },
  {
   "cell_type": "code",
   "execution_count": null,
   "id": "2f357e21",
   "metadata": {},
   "outputs": [],
   "source": []
  },
  {
   "cell_type": "code",
   "execution_count": null,
   "id": "ac9cd9e3",
   "metadata": {},
   "outputs": [],
   "source": [
    "# Create list to store DataArrays for each new_id\n",
    "transformed_arrays = []\n",
    "for new_id in new_ids:\n",
    "    \n",
    "    mask = id_mapping.new_id == new_id\n",
    "    mask_time = mask.any('z')\n",
    "    \n",
    "    original_ids = id_mapping.original_id.where(mask, 0).max(dim='z').where(mask_time, 0)\n",
    "    \n",
    "    transformed_arrays.append(original_ids)\n",
    "\n",
    "# Combine all arrays along new_id dimension\n",
    "global_id_mapping = xr.concat(transformed_arrays, dim='new_id')\n",
    "global_id_mapping = global_id_mapping.assign_coords(new_id=new_ids)"
   ]
  },
  {
   "cell_type": "code",
   "execution_count": null,
   "id": "9fdb0193",
   "metadata": {},
   "outputs": [],
   "source": [
    "new_id = 1\n",
    "mask = id_mapping.new_id == new_id\n",
    "mask_time = mask.any('z')"
   ]
  },
  {
   "cell_type": "code",
   "execution_count": null,
   "id": "bde8e174",
   "metadata": {},
   "outputs": [],
   "source": [
    "global_id_mapping = xr.concat(transformed_arrays, dim='new_id').assign_coords(new_id=new_ids).rename({'new_id': 'ID'}).compute()\n"
   ]
  },
  {
   "cell_type": "code",
   "execution_count": null,
   "metadata": {},
   "outputs": [],
   "source": []
  },
  {
   "cell_type": "code",
   "execution_count": null,
   "metadata": {},
   "outputs": [],
   "source": []
  },
  {
   "cell_type": "code",
   "execution_count": null,
   "metadata": {},
   "outputs": [],
   "source": []
  },
  {
   "cell_type": "code",
   "execution_count": null,
   "metadata": {},
   "outputs": [],
   "source": []
  },
  {
   "cell_type": "code",
   "execution_count": null,
   "metadata": {},
   "outputs": [],
   "source": []
  },
  {
   "cell_type": "code",
   "execution_count": null,
   "metadata": {},
   "outputs": [],
   "source": [
    "blobs_props_extended['global_ID'] = global_id_mapping"
   ]
  },
  {
   "cell_type": "code",
   "execution_count": null,
   "id": "bf9820ef",
   "metadata": {},
   "outputs": [],
   "source": [
    "dummy = blobs_props.isel(ID=0) * np.nan\n",
    "blobs_props = xr.concat([dummy.assign_coords(ID=0), blobs_props], dim='ID')"
   ]
  },
  {
   "cell_type": "code",
   "execution_count": null,
   "metadata": {},
   "outputs": [],
   "source": [
    "for var_name in blobs_props.data_vars:\n",
    "    \n",
    "    blobs_props_extended[var_name] = (blobs_props[var_name]\n",
    "                        .sel(ID=global_id_mapping.rename({'ID':'new_id'}))\n",
    "                        .drop_vars('ID').rename({'new_id':'ID'}))"
   ]
  },
  {
   "cell_type": "code",
   "execution_count": null,
   "id": "f26280e9",
   "metadata": {},
   "outputs": [],
   "source": [
    "valid_presence = blobs_props_extended['global_ID']>0  # Where we have valid data\n",
    "valid_presence"
   ]
  },
  {
   "cell_type": "code",
   "execution_count": null,
   "id": "ff2bfbaa",
   "metadata": {},
   "outputs": [],
   "source": [
    "valid_presence.isel(ID=0).plot()"
   ]
  },
  {
   "cell_type": "code",
   "execution_count": null,
   "metadata": {},
   "outputs": [],
   "source": []
  },
  {
   "cell_type": "code",
   "execution_count": null,
   "id": "87e2e7be",
   "metadata": {},
   "outputs": [],
   "source": []
  },
  {
   "cell_type": "code",
   "execution_count": null,
   "metadata": {},
   "outputs": [],
   "source": []
  },
  {
   "cell_type": "code",
   "execution_count": null,
   "id": "75ecabd0",
   "metadata": {},
   "outputs": [],
   "source": [
    "# Cluster Blobs List to Determine Globally Unique IDs & Update Blob ID Field\n",
    "split_merged_blobs_ds = tracker.cluster_rename_blobs_and_props(split_merged_blob_id_field_unique, merged_blobs_props, split_merged_blobs_list)"
   ]
  },
  {
   "cell_type": "code",
   "execution_count": null,
   "id": "407ac225",
   "metadata": {},
   "outputs": [],
   "source": []
  },
  {
   "cell_type": "code",
   "execution_count": null,
   "metadata": {},
   "outputs": [],
   "source": []
  },
  {
   "cell_type": "code",
   "execution_count": null,
   "metadata": {},
   "outputs": [],
   "source": []
  },
  {
   "cell_type": "code",
   "execution_count": null,
   "metadata": {},
   "outputs": [],
   "source": []
  },
  {
   "cell_type": "code",
   "execution_count": null,
   "metadata": {},
   "outputs": [],
   "source": []
  },
  {
   "cell_type": "code",
   "execution_count": null,
   "id": "cebee2fa",
   "metadata": {},
   "outputs": [],
   "source": []
  },
  {
   "cell_type": "code",
   "execution_count": null,
   "metadata": {},
   "outputs": [],
   "source": []
  },
  {
   "cell_type": "code",
   "execution_count": null,
   "metadata": {},
   "outputs": [],
   "source": []
  },
  {
   "cell_type": "code",
   "execution_count": null,
   "metadata": {},
   "outputs": [],
   "source": []
  },
  {
   "cell_type": "code",
   "execution_count": null,
   "id": "d3c46acf",
   "metadata": {},
   "outputs": [],
   "source": []
  },
  {
   "cell_type": "code",
   "execution_count": null,
   "metadata": {},
   "outputs": [],
   "source": []
  },
  {
   "cell_type": "code",
   "execution_count": null,
   "metadata": {},
   "outputs": [],
   "source": [
    "# Add Merge Ledger to split_merged_blobs_ds\n",
    "split_merged_blobs_ds.attrs['merge_ledger'] = merged_blobs_ledger\n",
    "\n",
    "# Count Number of Blobs (This may have increased due to splitting)\n",
    "N_blobs = split_merged_blobs_ds.ID_field.max().compute().data"
   ]
  },
  {
   "cell_type": "code",
   "execution_count": null,
   "metadata": {},
   "outputs": [],
   "source": []
  },
  {
   "cell_type": "code",
   "execution_count": null,
   "metadata": {},
   "outputs": [],
   "source": []
  },
  {
   "cell_type": "code",
   "execution_count": null,
   "id": "b5517778",
   "metadata": {},
   "outputs": [],
   "source": [
    "blobs.attrs"
   ]
  },
  {
   "cell_type": "code",
   "execution_count": null,
   "id": "7dae530c",
   "metadata": {},
   "outputs": [],
   "source": [
    "# Save Tracked Blobs\n",
    "\n",
    "file_name = Path('/scratch') / getuser()[0] / getuser() / 'mhws' / 'MHWs_tracked.nc'\n",
    "blobs.to_netcdf(file_name, mode='w')"
   ]
  }
 ],
 "metadata": {
  "kernelspec": {
   "display_name": "Python 3 (ipykernel)",
   "language": "python",
   "name": "python3"
  },
  "language_info": {
   "codemirror_mode": {
    "name": "ipython",
    "version": 3
   },
   "file_extension": ".py",
   "mimetype": "text/x-python",
   "name": "python",
   "nbconvert_exporter": "python",
   "pygments_lexer": "ipython3",
   "version": "3.10.15"
  }
 },
 "nbformat": 4,
 "nbformat_minor": 5
}
