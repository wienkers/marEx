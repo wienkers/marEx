{
 "cells": [
  {
   "cell_type": "markdown",
   "id": "5b7d3a1a",
   "metadata": {},
   "source": [
    "# Identify & Track Marine Heatwaves using `spot_the_blOb`"
   ]
  },
  {
   "cell_type": "markdown",
   "id": "61028733",
   "metadata": {},
   "source": [
    "## Processing Steps:\n",
    "1. Fill holes in the binary data, using `dask_image.ndmorph` -- up to `R_fill` cells in radius.\n",
    "2. Filter out small objects -- area less than the `area_filter_quartile` of the distribution of objects.\n",
    "3. Identify objects in the binary data, using `dask_image.ndmeasure`.\n",
    "4. Manually connect objects across time, applying Sun et al. 2023 criteria:\n",
    "    - Connected Blobs must overlap by at least `overlap_threshold=50%` of the smaller blob.\n",
    "    - Merged Blobs retain their original ID, but split the blob based on parent centroid locality.\n",
    "5. Cluster and reduce the final object ID graph using `scipy.sparse.csgraph.connected_components`.\n",
    "\n",
    "N.B.: Exploits parallelised `Dask` operations with optimised chunking using `flox` for memory efficiency and speed \\\n",
    "N.N.B.: This example using 40 years of Daily outputs at 0.25° resolution takes ~6 minutes on 128 total cores."
   ]
  },
  {
   "cell_type": "code",
   "execution_count": 1,
   "id": "6b337539",
   "metadata": {},
   "outputs": [],
   "source": [
    "import xarray as xr\n",
    "import dask\n",
    "from getpass import getuser\n",
    "from pathlib import Path\n",
    "\n",
    "import spot_the_blOb as blob\n",
    "import spot_the_blOb.helper as hpc"
   ]
  },
  {
   "cell_type": "code",
   "execution_count": 2,
   "id": "310fd2ef",
   "metadata": {},
   "outputs": [
    {
     "name": "stdout",
     "output_type": "stream",
     "text": [
      "Memory per Worker: 15.74 GB\n",
      "Hostname is  l40287\n",
      "Forward Port = l40287:8787\n",
      "Dashboard Link: localhost:8787/status\n"
     ]
    }
   ],
   "source": [
    "# Start Dask Cluster\n",
    "client = hpc.StartLocalCluster(n_workers=32, n_threads=2)"
   ]
  },
  {
   "cell_type": "code",
   "execution_count": 3,
   "id": "66a21e23-427a-4f6f-9a91-fa2ae628f148",
   "metadata": {
    "tags": []
   },
   "outputs": [],
   "source": [
    "# Load Pre-processed Data (cf. `01_preprocess_extremes.ipynb`)\n",
    "\n",
    "file_name = Path('/scratch') / getuser()[0] / getuser() / 'mhws' / 'extreme_events_binary.zarr'\n",
    "chunk_size = {'time': 25, 'lat': -1, 'lon': -1}\n",
    "ds = xr.open_zarr(str(file_name), chunks=chunk_size)"
   ]
  },
  {
   "cell_type": "code",
   "execution_count": 4,
   "id": "93364dbb",
   "metadata": {},
   "outputs": [],
   "source": [
    "# Extract Binary Features and Modify Mask\n",
    "\n",
    "extreme_bin = ds.extreme_events\n",
    "mask = ds.mask.where((ds.lat<85) & (ds.lat>-90), other=False)"
   ]
  },
  {
   "cell_type": "code",
   "execution_count": 5,
   "id": "ff7e8fc5",
   "metadata": {},
   "outputs": [],
   "source": [
    "# Tracking Parameters\n",
    "\n",
    "drop_area_quartile = 0.5\n",
    "filling_radius = 8\n",
    "allow_merging = True"
   ]
  },
  {
   "cell_type": "code",
   "execution_count": 6,
   "id": "f48aeaf0",
   "metadata": {},
   "outputs": [],
   "source": [
    "# Spot the Blobs\n",
    "\n",
    "tracker = blob.Spotter(extreme_bin, mask, R_fill=filling_radius, area_filter_quartile=drop_area_quartile, allow_merging=allow_merging)\n",
    "#blobs = tracker.run()\n",
    "\n",
    "#blobs"
   ]
  },
  {
   "cell_type": "code",
   "execution_count": 7,
   "id": "02db4236",
   "metadata": {},
   "outputs": [],
   "source": [
    "data_bin_filled = tracker.fill_holes()"
   ]
  },
  {
   "cell_type": "code",
   "execution_count": 8,
   "id": "c2c23d2a",
   "metadata": {},
   "outputs": [
    {
     "name": "stderr",
     "output_type": "stream",
     "text": [
      "/home/b/b382615/opt/anaconda3/lib/python3.10/site-packages/distributed/client.py:3361: UserWarning: Sending large graph of size 13.02 MiB.\n",
      "This may cause some slowdown.\n",
      "Consider loading the data with Dask directly\n",
      " or using futures or delayed objects to embed the data into the graph without repetition.\n",
      "See also https://docs.dask.org/en/stable/best-practices.html#load-data-with-dask for more information.\n",
      "  warnings.warn(\n"
     ]
    }
   ],
   "source": [
    "data_bin_filtered, area_threshold, blob_areas, N_blobs_unfiltered = tracker.filter_small_blobs(data_bin_filled)"
   ]
  },
  {
   "cell_type": "code",
   "execution_count": 9,
   "id": "ad63e227",
   "metadata": {},
   "outputs": [],
   "source": [
    "data_bin = data_bin_filtered"
   ]
  },
  {
   "cell_type": "code",
   "execution_count": 10,
   "id": "e3ec974d",
   "metadata": {},
   "outputs": [],
   "source": [
    "blob_id_field, _ = tracker.identify_blobs(data_bin, time_connectivity=False)"
   ]
  },
  {
   "cell_type": "code",
   "execution_count": 11,
   "id": "71ff68d3",
   "metadata": {},
   "outputs": [],
   "source": [
    "import numpy as np\n",
    "import matplotlib.pyplot as plt"
   ]
  },
  {
   "cell_type": "code",
   "execution_count": 12,
   "metadata": {},
   "outputs": [],
   "source": [
    "# Calculate Properties of each Blob\n",
    "blob_props = tracker.calculate_blob_properties(blob_id_field, properties=['area', 'centroid'])\n"
   ]
  },
  {
   "cell_type": "code",
   "execution_count": null,
   "id": "d2ac7f9a",
   "metadata": {},
   "outputs": [],
   "source": [
    "\n",
    "# Compile List of Overlapping Blob ID Pairs Across Time\n",
    "overlap_blobs_list = tracker.find_overlapping_blobs(blob_id_field)  # List of overlapping blob pairs\n"
   ]
  },
  {
   "cell_type": "code",
   "execution_count": null,
   "id": "2eab7487",
   "metadata": {},
   "outputs": [],
   "source": [
    "# split_merged_blob_id_field_unique, merged_blobs_props, split_merged_blobs_list, merged_blobs_ledger = tracker.split_and_merge_blobs(blob_id_field, blob_props, overlap_blobs_list)\n"
   ]
  },
  {
   "cell_type": "code",
   "execution_count": null,
   "id": "d3c46acf",
   "metadata": {},
   "outputs": [],
   "source": []
  },
  {
   "cell_type": "code",
   "execution_count": null,
   "id": "44fad20d",
   "metadata": {},
   "outputs": [],
   "source": [
    "blob_id_field_unique = blob_id_field.copy()"
   ]
  },
  {
   "cell_type": "code",
   "execution_count": null,
   "id": "44fad20d",
   "metadata": {},
   "outputs": [],
   "source": [
    "\n",
    "# Vectorised computation of overlap fractions\n",
    "areas_0 = blob_props['area'].sel(ID=overlap_blobs_list[:, 0]).values\n",
    "areas_1 = blob_props['area'].sel(ID=overlap_blobs_list[:, 1]).values\n",
    "min_areas = np.minimum(areas_0, areas_1)\n",
    "overlap_fractions = overlap_blobs_list[:, 2].astype(float) / min_areas\n",
    "\n",
    "# Filter out the overlaps that are too small\n",
    "overlap_blobs_list = overlap_blobs_list[overlap_fractions >= tracker.overlap_threshold]\n",
    "\n",
    "\n",
    "\n",
    "##### Consider Merging Blobs\n",
    "\n",
    "# Initialise merge tracking structures\n",
    "merge_ledger = []                      # List of IDs of the 2 Merging Parents\n",
    "next_new_id = blob_props.ID.max().item() + 1  # Start new IDs after highest existing ID\n",
    "\n",
    "# Find all the Children (t+1 / RHS) elements that appear multiple times --> Indicates there are 2+ Parent Blobs...\n",
    "unique_children, children_counts = np.unique(overlap_blobs_list[:, 1], return_counts=True)\n",
    "merging_blobs = unique_children[children_counts > 1]\n",
    "\n",
    "# Pre-compute the child_time_idx & 2d_mask_id for each child_blob\n",
    "time_index_map = tracker.compute_id_time_dict_mask(blob_id_field_unique, merging_blobs, next_new_id)\n",
    "Nx = blob_id_field_unique[tracker.xdim].size\n",
    "\n",
    "# Group blobs by time-chunk\n",
    "# -- Pre-condition: Blob IDs should be monotonically increasing in time...\n",
    "chunk_boundaries = np.cumsum([0] + list(blob_id_field_unique.chunks[0] ))\n",
    "blobs_by_chunk = {}\n",
    "for blob_id in merging_blobs:\n",
    "    # Find which chunk this time index belongs to\n",
    "    chunk_idx = np.searchsorted(chunk_boundaries, time_index_map[blob_id], side='right') - 1\n",
    "    blobs_by_chunk.setdefault(chunk_idx, []).append(blob_id)\n",
    "\n"
   ]
  },
  {
   "cell_type": "code",
   "execution_count": null,
   "id": "e41774d6",
   "metadata": {},
   "outputs": [],
   "source": [
    "from numba import jit, prange"
   ]
  },
  {
   "cell_type": "code",
   "execution_count": null,
   "id": "00b333b5",
   "metadata": {},
   "outputs": [],
   "source": [
    "@jit(nopython=True, parallel=True, fastmath=True)\n",
    "def wrapped_euclidian_parallel(mask_values, parent_centroids_values, Nx):\n",
    "    \"\"\"\n",
    "    Optimised function for computing wrapped Euclidean distances.\n",
    "    \n",
    "    Parameters:\n",
    "    -----------\n",
    "    mask_values : np.ndarray\n",
    "        2D boolean array where True indicates points to calculate distances for\n",
    "    parent_centroids_values : np.ndarray\n",
    "        Array of shape (n_parents, 2) containing (y, x) coordinates of parent centroids\n",
    "    Nx : int\n",
    "        Size of the x-dimension for wrapping\n",
    "        \n",
    "    Returns:\n",
    "    --------\n",
    "    distances : np.ndarray\n",
    "        Array of shape (n_true_points, n_parents) with minimum distances\n",
    "    \"\"\"\n",
    "    n_parents = len(parent_centroids_values)\n",
    "    half_Nx = Nx / 2\n",
    "    \n",
    "    y_indices, x_indices = np.nonzero(mask_values)\n",
    "    n_true = len(y_indices)\n",
    "    \n",
    "    distances = np.empty((n_true, n_parents), dtype=np.float64)\n",
    "    \n",
    "    # Precompute for faster access\n",
    "    parent_y = parent_centroids_values[:, 0]\n",
    "    parent_x = parent_centroids_values[:, 1]\n",
    "    \n",
    "    # Parallel loop over true positions\n",
    "    for idx in prange(n_true):\n",
    "        y, x = y_indices[idx], x_indices[idx]\n",
    "        \n",
    "        # Pre-compute y differences for all parents\n",
    "        dy = y - parent_y\n",
    "        \n",
    "        # Pre-compute x differences for all parents\n",
    "        dx = x - parent_x\n",
    "        \n",
    "        # Wrapping correction\n",
    "        dx = np.where(dx > half_Nx, dx - Nx, dx)\n",
    "        dx = np.where(dx < -half_Nx, dx + Nx, dx)\n",
    "        \n",
    "        distances[idx] = np.sqrt(dy * dy + dx * dx)\n",
    "    \n",
    "    return distances"
   ]
  },
  {
   "cell_type": "code",
   "execution_count": null,
   "id": "ac20a409",
   "metadata": {},
   "outputs": [],
   "source": [
    "import time\n",
    "\n",
    "chunk_start_time = time.time()\n",
    "for chunk_idx, chunk_blobs in blobs_by_chunk.items(): # Loop over each time-chunk\n",
    "    print(f\"\\nProcessing chunk {chunk_idx}...\")\n",
    "    chunk_iter_start = time.time()\n",
    "    \n",
    "    chunk_start = sum(blob_id_field_unique.chunks[0][:chunk_idx])\n",
    "    chunk_end = chunk_start + blob_id_field_unique.chunks[0][chunk_idx] + 1  #  We also want access to the blob_id_time_p1...  But need to remember to remove the last time later\n",
    "    \n",
    "    # Load the entire chunk into memory\n",
    "    chunk_data = blob_id_field_unique.isel({tracker.timedim: slice(chunk_start, chunk_end)}).compute()\n",
    "    \n",
    "    # Process each blob in this chunk\n",
    "    for child_id in chunk_blobs:\n",
    "        #child_start_time = time.time()\n",
    "        \n",
    "        child_time_idx = time_index_map[child_id]\n",
    "        relative_time_idx = child_time_idx - chunk_start\n",
    "        \n",
    "        blob_id_time = chunk_data.isel({tracker.timedim: relative_time_idx})\n",
    "        blob_id_time_p1 = chunk_data.isel({tracker.timedim: relative_time_idx+1})\n",
    "        \n",
    "        child_mask_2d  = (blob_id_time == child_id).values  #child_mask_2d_all.sel(child_id=child_id).values\n",
    "        \n",
    "        # Find all pairs involving this Child Blob\n",
    "        child_mask = overlap_blobs_list[:, 1] == child_id\n",
    "        child_where = np.where(overlap_blobs_list[:, 1] == child_id)[0]  # Needed for assignment\n",
    "        merge_group = overlap_blobs_list[child_mask]\n",
    "        \n",
    "        # Get all Parents (LHS) Blobs that overlap with this Child Blob -- N.B. This is now generalised for N-parent merging !\n",
    "        parent_ids = merge_group[:, 0]\n",
    "        num_parents = len(parent_ids)\n",
    "        \n",
    "        # Make a new ID for the other Half of the Child Blob & Record in the Merge Ledger\n",
    "        new_blob_id = np.arange(next_new_id, next_new_id + (num_parents - 1), dtype=np.int32)\n",
    "        next_new_id += num_parents - 1\n",
    "        merge_ledger.append(parent_ids)\n",
    "        \n",
    "        # Replace the 2nd+ Child in the Overlap Blobs List with the new Child ID\n",
    "        overlap_blobs_list[child_where[1:], 1] = new_blob_id    #overlap_blobs_list[child_mask, 1][1:] = new_blob_id\n",
    "        child_ids = np.concatenate((np.array([child_id]), new_blob_id))    #np.array([child_id, new_blob_id])\n",
    "        \n",
    "        ## Relabel the Original Child Blob ID Field to account for the New ID:\n",
    "        # --> For every (Original) Child Cell in the ID Field, Measure the Distance to the Centroids of the Parents\n",
    "        # --> Assign the ID for each Cell corresponding to the closest Parent\n",
    "        \n",
    "        parent_centroids = blob_props.sel(ID=parent_ids).centroid.values.T  # (y, x), [:,0] are the y's\n",
    "        distances = wrapped_euclidian_parallel(child_mask_2d, parent_centroids, Nx)  # **Deals with wrapping**\n",
    "        \n",
    "        # Assign the new ID to each cell based on the closest parent\n",
    "        new_labels = child_ids[np.argmin(distances, axis=1)]\n",
    "        \n",
    "        # Update values in child_time_idx and assign the updated slice back to the original DataArray\n",
    "        temp = np.zeros_like(blob_id_time)\n",
    "        temp[child_mask_2d] = new_labels\n",
    "        blob_id_time = blob_id_time.where(~child_mask_2d, temp)\n",
    "        # blob_id_field_unique[{tracker.timedim: child_time_idx}] = blob_id_time\n",
    "        ## ** Update directly into the chunk\n",
    "        chunk_data[{tracker.timedim: relative_time_idx}] = blob_id_time\n",
    "        \n",
    "        ## Update the Properties of the N Children Blobs\n",
    "        new_child_props = tracker.calculate_blob_properties(blob_id_time, properties=['area', 'centroid'])\n",
    "        \n",
    "        # Update the properties for the original child ID\n",
    "        blob_props.loc[dict(ID=child_id)] = new_child_props.sel(ID=child_id)\n",
    "        \n",
    "        # Add the properties for the N-1 other new child ID\n",
    "        blob_props = xr.concat([blob_props, new_child_props.sel(ID=new_blob_id)], dim='ID')\n",
    "    \n",
    "        ## Finally, we need to re-assess all of the Parent IDs (LHS) equal to the (original) child_id\n",
    "        \n",
    "        # Look at the overlap IDs between the original child_id and the next time-step, and also the new_blob_id and the next time-step\n",
    "        new_overlaps = tracker.check_overlap_slice(blob_id_time.values, blob_id_time_p1.values)\n",
    "        new_child_overlaps_list = new_overlaps[(new_overlaps[:, 0] == child_id) | np.isin(new_overlaps[:, 0], new_blob_id)]\n",
    "        \n",
    "        # _Before_ replacing the overlap_blobs_list, we need to re-assess the overlap fractions of just the new_child_overlaps_list\n",
    "        areas_0 = blob_props['area'].sel(ID=new_child_overlaps_list[:, 0]).values\n",
    "        areas_1 = blob_props['area'].sel(ID=new_child_overlaps_list[:, 1]).values\n",
    "        min_areas = np.minimum(areas_0, areas_1)\n",
    "        overlap_fractions = new_child_overlaps_list[:, 2].astype(float) / min_areas\n",
    "        new_child_overlaps_list = new_child_overlaps_list[overlap_fractions >= tracker.overlap_threshold]\n",
    "        \n",
    "        # Replace the lines in the overlap_blobs_list where (original) child_id is on the LHS, with these new pairs in new_child_overlaps_list\n",
    "        child_mask_LHS = overlap_blobs_list[:, 0] == child_id\n",
    "        overlap_blobs_list = np.concatenate([overlap_blobs_list[~child_mask_LHS], new_child_overlaps_list])\n",
    "\n",
    "        # Print timing for this child_id\n",
    "        child_elapsed = time.time() - child_start_time\n",
    "        #print(f\"Completed processing child_id {child_id} in {child_elapsed:.2f} seconds\")\n",
    "    \n",
    "    # Update the full dask DataArray with this processed chunk\n",
    "    blob_id_field_unique[{\n",
    "        tracker.timedim: slice(chunk_start, chunk_end-1)  # cf. above definition of chunk_end for why we need -1\n",
    "    }] = chunk_data[:-1]\n",
    "    \n",
    "    # Print timing for this chunk\n",
    "    chunk_elapsed = time.time() - chunk_iter_start\n",
    "    print(f\"\\nCompleted chunk {chunk_idx} in {chunk_elapsed:.2f} seconds\")\n",
    "    print(f\"Processed {len(chunk_blobs)} blobs in this chunk\")\n",
    "    print(f\"Average time per blob: {chunk_elapsed/len(chunk_blobs):.2f} seconds\")\n",
    "\n",
    "# Print total execution time\n",
    "total_elapsed = time.time() - chunk_start_time\n",
    "print(f\"\\nTotal execution time: {total_elapsed:.2f} seconds\")"
   ]
  },
  {
   "cell_type": "code",
   "execution_count": null,
   "metadata": {},
   "outputs": [],
   "source": []
  },
  {
   "cell_type": "code",
   "execution_count": null,
   "id": "cabbec27",
   "metadata": {},
   "outputs": [],
   "source": []
  },
  {
   "cell_type": "code",
   "execution_count": null,
   "id": "466b061a",
   "metadata": {},
   "outputs": [],
   "source": [
    "parent_centroids"
   ]
  },
  {
   "cell_type": "code",
   "execution_count": null,
   "id": "38cb8cf3",
   "metadata": {},
   "outputs": [],
   "source": [
    "parent_ids"
   ]
  },
  {
   "cell_type": "code",
   "execution_count": null,
   "id": "10e4fd65",
   "metadata": {},
   "outputs": [],
   "source": [
    "child_ids"
   ]
  },
  {
   "cell_type": "code",
   "execution_count": null,
   "id": "5ca4add2",
   "metadata": {},
   "outputs": [],
   "source": [
    "plt.pcolor(blob_id_field_unique.isel({tracker.timedim: child_time_idx-1}))"
   ]
  },
  {
   "cell_type": "code",
   "execution_count": null,
   "id": "c9fbc2a6",
   "metadata": {},
   "outputs": [],
   "source": [
    "plt.pcolor(child_mask_2d)"
   ]
  },
  {
   "cell_type": "code",
   "execution_count": null,
   "id": "b2769e2a",
   "metadata": {},
   "outputs": [],
   "source": [
    "parent_centroids"
   ]
  },
  {
   "cell_type": "code",
   "execution_count": null,
   "id": "5bcd8ecf",
   "metadata": {},
   "outputs": [],
   "source": [
    "distances"
   ]
  },
  {
   "cell_type": "code",
   "execution_count": null,
   "id": "d70ce25d",
   "metadata": {},
   "outputs": [],
   "source": [
    "(new_labels == 149898).sum()"
   ]
  },
  {
   "cell_type": "code",
   "execution_count": null,
   "id": "e3ed4a7e",
   "metadata": {},
   "outputs": [],
   "source": []
  },
  {
   "cell_type": "code",
   "execution_count": null,
   "metadata": {},
   "outputs": [],
   "source": []
  },
  {
   "cell_type": "code",
   "execution_count": null,
   "id": "5f283bed",
   "metadata": {},
   "outputs": [],
   "source": [
    "child_id"
   ]
  },
  {
   "cell_type": "code",
   "execution_count": null,
   "id": "47564f68",
   "metadata": {},
   "outputs": [],
   "source": [
    "parent_centroids"
   ]
  },
  {
   "cell_type": "code",
   "execution_count": null,
   "id": "a6bc46da",
   "metadata": {},
   "outputs": [],
   "source": [
    "plt.pcolor(blob_id_field_unique.isel({tracker.timedim: child_time_idx}), vmax=10)\n",
    "plt.colorbar()"
   ]
  },
  {
   "cell_type": "code",
   "execution_count": null,
   "id": "a7f11582",
   "metadata": {},
   "outputs": [],
   "source": [
    "plt.pcolor(child_mask_2d)"
   ]
  },
  {
   "cell_type": "code",
   "execution_count": null,
   "id": "b8e4c039",
   "metadata": {},
   "outputs": [],
   "source": [
    "plt.pcolor(blob_id_field_unique.isel({tracker.timedim: child_time_idx-1})==998)"
   ]
  },
  {
   "cell_type": "code",
   "execution_count": null,
   "id": "8d6e1006",
   "metadata": {},
   "outputs": [],
   "source": [
    "binary_mask = blob_id_field_unique.isel({tracker.timedim: child_time_idx-1})==998"
   ]
  },
  {
   "cell_type": "code",
   "execution_count": null,
   "id": "96021fe2",
   "metadata": {},
   "outputs": [],
   "source": [
    "binary_mask"
   ]
  },
  {
   "cell_type": "code",
   "execution_count": null,
   "id": "6b7b29ea",
   "metadata": {},
   "outputs": [],
   "source": [
    "tracker.calculate_centroid(binary_mask.values, (123, 123123))"
   ]
  },
  {
   "cell_type": "code",
   "execution_count": null,
   "id": "10ce699f",
   "metadata": {},
   "outputs": [],
   "source": [
    "parent_ids"
   ]
  },
  {
   "cell_type": "code",
   "execution_count": null,
   "id": "dde9772f",
   "metadata": {},
   "outputs": [],
   "source": [
    "parent_centroids"
   ]
  },
  {
   "cell_type": "code",
   "execution_count": null,
   "id": "589fb517",
   "metadata": {},
   "outputs": [],
   "source": []
  },
  {
   "cell_type": "code",
   "execution_count": null,
   "id": "f758700f",
   "metadata": {},
   "outputs": [],
   "source": [
    "new_child_props.sel(ID=new_blob_id)"
   ]
  },
  {
   "cell_type": "code",
   "execution_count": null,
   "id": "4f7cf1fa",
   "metadata": {},
   "outputs": [],
   "source": [
    "blob_props.isel(ID=1011)"
   ]
  },
  {
   "cell_type": "code",
   "execution_count": null,
   "id": "d62abc4b",
   "metadata": {},
   "outputs": [],
   "source": []
  },
  {
   "cell_type": "code",
   "execution_count": null,
   "metadata": {},
   "outputs": [],
   "source": []
  },
  {
   "cell_type": "code",
   "execution_count": null,
   "metadata": {},
   "outputs": [],
   "source": []
  },
  {
   "cell_type": "code",
   "execution_count": null,
   "id": "bc3f57f4",
   "metadata": {},
   "outputs": [],
   "source": []
  },
  {
   "cell_type": "code",
   "execution_count": null,
   "metadata": {},
   "outputs": [],
   "source": []
  },
  {
   "cell_type": "code",
   "execution_count": null,
   "id": "91f855b5",
   "metadata": {},
   "outputs": [],
   "source": [
    "# Cluster Blobs List to Determine Globally Unique IDs & Update Blob ID Field\n",
    "split_merged_blobs_ds = tracker.cluster_rename_blobs_and_props(split_merged_blob_id_field_unique, merged_blobs_props, split_merged_blobs_list)"
   ]
  },
  {
   "cell_type": "code",
   "execution_count": null,
   "metadata": {},
   "outputs": [],
   "source": [
    "# Add Merge Ledger to split_merged_blobs_ds\n",
    "split_merged_blobs_ds.attrs['merge_ledger'] = merged_blobs_ledger\n",
    "\n",
    "# Count Number of Blobs (This may have increased due to splitting)\n",
    "N_blobs = split_merged_blobs_ds.ID_field.max().compute().data"
   ]
  },
  {
   "cell_type": "code",
   "execution_count": null,
   "metadata": {},
   "outputs": [],
   "source": []
  },
  {
   "cell_type": "code",
   "execution_count": null,
   "metadata": {},
   "outputs": [],
   "source": []
  },
  {
   "cell_type": "code",
   "execution_count": null,
   "id": "b5517778",
   "metadata": {},
   "outputs": [],
   "source": [
    "blobs.attrs"
   ]
  },
  {
   "cell_type": "code",
   "execution_count": null,
   "id": "7dae530c",
   "metadata": {},
   "outputs": [],
   "source": [
    "# Save Tracked Blobs\n",
    "\n",
    "file_name = Path('/scratch') / getuser()[0] / getuser() / 'mhws' / 'MHWs_tracked.nc'\n",
    "blobs.to_netcdf(file_name, mode='w')"
   ]
  }
 ],
 "metadata": {
  "kernelspec": {
   "display_name": "Python 3 (ipykernel)",
   "language": "python",
   "name": "python3"
  },
  "language_info": {
   "codemirror_mode": {
    "name": "ipython",
    "version": 3
   },
   "file_extension": ".py",
   "mimetype": "text/x-python",
   "name": "python",
   "nbconvert_exporter": "python",
   "pygments_lexer": "ipython3",
   "version": "3.10.15"
  }
 },
 "nbformat": 4,
 "nbformat_minor": 5
}
