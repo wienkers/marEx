{
 "cells": [
  {
   "cell_type": "markdown",
   "metadata": {},
   "source": [
    "# Visualise the tracked MHWs"
   ]
  },
  {
   "cell_type": "code",
   "execution_count": null,
   "metadata": {},
   "outputs": [],
   "source": [
    "import xarray as xr\n",
    "import numpy as np\n",
    "import dask\n",
    "from getpass import getuser\n",
    "from pathlib import Path\n",
    "\n",
    "import spot_the_blOb.helper as hpc\n",
    "\n",
    "import matplotlib.pyplot as plt\n",
    "from matplotlib.colors import ListedColormap\n",
    "import matplotlib.colors as mcolors\n",
    "import cartopy.crs as ccrs\n",
    "import cartopy.feature as cfeature"
   ]
  },
  {
   "cell_type": "code",
   "execution_count": null,
   "id": "7df4418b",
   "metadata": {},
   "outputs": [],
   "source": [
    "# Start Dask Cluster\n",
    "client = hpc.StartLocalCluster(n_workers=32, n_threads=4)"
   ]
  },
  {
   "cell_type": "code",
   "execution_count": null,
   "metadata": {},
   "outputs": [],
   "source": [
    "# Import Tracked MHW DataSet\n",
    "\n",
    "file_name = Path('/scratch') / getuser()[0] / getuser() / 'mhws' / 'MHWs_tracked.nc'\n",
    "blobs_ds = xr.open_dataset(file_name, chunks={'time': 50, 'lat': -1, 'lon': -1})\n",
    "blobs_ds"
   ]
  },
  {
   "cell_type": "code",
   "execution_count": null,
   "id": "1957b80e",
   "metadata": {},
   "outputs": [],
   "source": [
    "# Extract the MHW ID Field\n",
    "\n",
    "blobs = blobs_ds.ID_field\n",
    "blobs"
   ]
  },
  {
   "cell_type": "markdown",
   "id": "2cd0fd1d",
   "metadata": {},
   "source": [
    "## Plot some Blobs"
   ]
  },
  {
   "cell_type": "code",
   "execution_count": null,
   "id": "6f2d71b4",
   "metadata": {},
   "outputs": [],
   "source": [
    "blob_subset = blobs.sel(time=slice('2020-01-01', '2021-01-01')).resample(time='MS').first()\n",
    "maxl = blob_subset.max().compute().item()\n",
    "minl = blob_subset.min().compute().item()"
   ]
  },
  {
   "cell_type": "code",
   "execution_count": null,
   "id": "709c6980",
   "metadata": {},
   "outputs": [],
   "source": [
    "cm = ListedColormap(np.random.random(size=(int(maxl-minl), 3)).tolist())"
   ]
  },
  {
   "cell_type": "code",
   "execution_count": null,
   "id": "34d9815a",
   "metadata": {},
   "outputs": [],
   "source": [
    "blobs_first_day = blobs.sel(time=slice('2020-01-01', '2020-12-31')).resample(time='MS').first()\n",
    "blobs_first_day.plot(col='time', col_wrap=3, cmap=cm)"
   ]
  },
  {
   "cell_type": "markdown",
   "id": "76e6daa4",
   "metadata": {},
   "source": [
    "## Global MHW Frequency"
   ]
  },
  {
   "cell_type": "code",
   "execution_count": null,
   "id": "0ab2798a",
   "metadata": {},
   "outputs": [],
   "source": [
    "mhw_frequency = xr.where((blobs == 0) | np.isnan(blobs), 0.0, 1.0).mean('time')\n",
    "mhw_frequency.plot(cmap='hot_r')"
   ]
  },
  {
   "cell_type": "markdown",
   "id": "1bb4209c",
   "metadata": {},
   "source": [
    "## Find the longest MHWs"
   ]
  },
  {
   "cell_type": "code",
   "execution_count": null,
   "id": "990035b1",
   "metadata": {},
   "outputs": [],
   "source": [
    "final_objects_tracked = blobs.attrs['final objects tracked']\n",
    "labels = np.arange(final_objects_tracked)\n",
    "\n",
    "occurrence_array = xr.apply_ufunc(\n",
    "    lambda blobs_data, labels: np.isin(labels, blobs_data[..., np.newaxis]),  # Check presence...\n",
    "    blobs,\n",
    "    input_core_dims=[['lat', 'lon']],\n",
    "    output_core_dims=[['label']],\n",
    "    vectorize=True,\n",
    "    dask='parallelized',\n",
    "    output_dtypes=[bool],\n",
    "    output_sizes={'label': final_objects_tracked},\n",
    "    kwargs={'labels': labels}\n",
    ")"
   ]
  },
  {
   "cell_type": "code",
   "execution_count": null,
   "metadata": {},
   "outputs": [],
   "source": [
    "label_occurrence = occurrence_array.sum(dim='time').compute()"
   ]
  },
  {
   "cell_type": "code",
   "execution_count": null,
   "metadata": {},
   "outputs": [],
   "source": [
    "longest_mhws = label_occurrence.argsort()[::-1]"
   ]
  },
  {
   "cell_type": "code",
   "execution_count": null,
   "id": "e92a9d28",
   "metadata": {},
   "outputs": [],
   "source": [
    "for label in longest_mhws[:10].values:\n",
    "    print(f\"Label: {label}, Time: {label_occurrence.sel(label=label).item()} days\")"
   ]
  },
  {
   "cell_type": "markdown",
   "id": "819dacb2",
   "metadata": {},
   "source": [
    "## Plot a few long MHWs"
   ]
  },
  {
   "cell_type": "code",
   "execution_count": null,
   "id": "b7926f9a",
   "metadata": {},
   "outputs": [],
   "source": [
    "# mhw_intensity = xr.where(blobs == longest_mhws[:9], 1, 0).sum(dim='time')"
   ]
  },
  {
   "cell_type": "code",
   "execution_count": null,
   "id": "b9cf4612",
   "metadata": {},
   "outputs": [],
   "source": [
    "fig, axes = plt.subplots(3, 3, figsize=(12, 12))\n",
    "axes = axes.flatten()\n",
    "\n",
    "for i, label in enumerate(longest_mhws[:9]):\n",
    "    ax = axes[i]\n",
    "    mhw_intensity = xr.where(blobs == longest_mhws[i], 1, 0).sum(dim='time')\n",
    "    c = ax.pcolor(mhw_intensity, cmap='hot_r')  #.isel(label=i)\n",
    "    cbar = fig.colorbar(c, ax=ax, orientation='vertical')\n",
    "    cbar.set_label('Duration (days)')\n",
    "    ax.set_title(f'Label: {label}')\n",
    "\n",
    "# Adjust layout\n",
    "plt.tight_layout()\n",
    "plt.show()"
   ]
  }
 ],
 "metadata": {
  "kernelspec": {
   "display_name": "Python 3 (ipykernel)",
   "language": "python",
   "name": "python3"
  },
  "language_info": {
   "codemirror_mode": {
    "name": "ipython",
    "version": 3
   },
   "file_extension": ".py",
   "mimetype": "text/x-python",
   "name": "python",
   "nbconvert_exporter": "python",
   "pygments_lexer": "ipython3",
   "version": "3.10.12"
  }
 },
 "nbformat": 4,
 "nbformat_minor": 5
}
