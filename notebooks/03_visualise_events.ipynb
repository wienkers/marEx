{
 "cells": [
  {
   "cell_type": "markdown",
   "metadata": {},
   "source": [
    "# Visualise the Tracked Marine Heatwaves"
   ]
  },
  {
   "cell_type": "code",
   "execution_count": null,
   "metadata": {},
   "outputs": [],
   "source": [
    "import xarray as xr\n",
    "import numpy as np\n",
    "import dask\n",
    "from getpass import getuser\n",
    "from pathlib import Path\n",
    "\n",
    "import spot_the_blOb.helper as hpc\n",
    "from spot_the_blOb.plotter import *\n",
    "\n",
    "from matplotlib.colors import ListedColormap"
   ]
  },
  {
   "cell_type": "code",
   "execution_count": null,
   "id": "7df4418b",
   "metadata": {},
   "outputs": [],
   "source": [
    "# Start Dask Cluster\n",
    "client = hpc.StartLocalCluster(n_workers=32, n_threads=4)"
   ]
  },
  {
   "cell_type": "code",
   "execution_count": null,
   "metadata": {},
   "outputs": [],
   "source": [
    "# Import Tracked MHW DataSet\n",
    "\n",
    "file_name = Path('/scratch') / getuser()[0] / getuser() / 'mhws' / 'MHWs_tracked.nc'\n",
    "blobs_ds = xr.open_dataset(file_name, chunks={'time': 50, 'lat': -1, 'lon': -1})\n",
    "blobs_ds"
   ]
  },
  {
   "cell_type": "code",
   "execution_count": null,
   "id": "1957b80e",
   "metadata": {},
   "outputs": [],
   "source": [
    "# Extract the MHW ID Field\n",
    "\n",
    "blobs = blobs_ds.ID_field\n",
    "blobs"
   ]
  },
  {
   "cell_type": "markdown",
   "id": "2cd0fd1d",
   "metadata": {},
   "source": [
    "## Plot some Blobby Shapes"
   ]
  },
  {
   "cell_type": "code",
   "execution_count": null,
   "id": "34d9815a",
   "metadata": {},
   "outputs": [],
   "source": [
    "cm = ListedColormap(np.random.random(size=(int(1e5), 3)).tolist())\n",
    "\n",
    "blobs_day1 = blobs.sel(time=slice('2020-01-01', '2020-12-31')).resample(time='MS').first()\n",
    "blobs_day1.pplot_col(col_wrap=3, var_units='MHW ID', cmap=cm, cperc=[0, 100])"
   ]
  },
  {
   "cell_type": "markdown",
   "id": "76e6daa4",
   "metadata": {},
   "source": [
    "## Global Blob Frequency"
   ]
  },
  {
   "cell_type": "code",
   "execution_count": null,
   "id": "0ab2798a",
   "metadata": {},
   "outputs": [],
   "source": [
    "event_frequency = ((blobs != 0) & ~np.isnan(blobs)).astype(float).mean('time')\n",
    "event_frequency.pplot(var_units='MHW Frequency', cmap='hot_r', cperc=[0,96])"
   ]
  },
  {
   "cell_type": "markdown",
   "id": "1bb4209c",
   "metadata": {},
   "source": [
    "## Find & Plot a Few of the Longest Events"
   ]
  },
  {
   "cell_type": "code",
   "execution_count": null,
   "id": "31a1c1eb",
   "metadata": {},
   "outputs": [],
   "source": [
    "events_duration = blobs_ds.time_end - blobs_ds.time_start\n",
    "longest_events = events_duration.sortby(events_duration, ascending=False).ID\n",
    "\n",
    "for ID in longest_events[:10].values:\n",
    "    print(f\"ID: {ID}, Start Day: {blobs_ds.time_start.sel(ID=ID)}, Duration: {events_duration.sel(ID=ID).item()} days\")"
   ]
  },
  {
   "cell_type": "code",
   "execution_count": null,
   "id": "b9cf4612",
   "metadata": {},
   "outputs": [],
   "source": [
    "long_blobs = blobs.sel(ID=longest_events[:9])\n",
    "long_blobs_local_duration = ((long_blobs != 0) & ~np.isnan(long_blobs)).astype(float).sum('time')\n",
    "\n",
    "long_blobs_local_duration.pplot_col(col_wrap=3, var_units='Duration (days)', cmap='hot_r', cperc=[0, 100])"
   ]
  },
  {
   "cell_type": "markdown",
   "id": "bdea60f9",
   "metadata": {},
   "source": [
    "## Time-Series Plot of Events Area"
   ]
  },
  {
   "cell_type": "code",
   "execution_count": null,
   "id": "799843b9",
   "metadata": {},
   "outputs": [],
   "source": [
    "events_areas = blobs_ds.area * 1.0e5/16.0 # km^2 (very rough estimate, since \"area\" here is in units of 0.25x0.25 degree grid cells...)\n",
    "\n",
    "plt.figure(figsize=(14, 8))\n",
    "\n",
    "events_areas.plot.line(x='time', hue='ID', alpha=0.5, add_legend=False)\n",
    "plt.yscale('log')\n",
    "plt.xlabel('Time')\n",
    "plt.ylabel('Rough Event Area [km^2]')\n",
    "plt.show()\n"
   ]
  }
 ],
 "metadata": {
  "kernelspec": {
   "display_name": "Python 3 (ipykernel)",
   "language": "python",
   "name": "python3"
  },
  "language_info": {
   "codemirror_mode": {
    "name": "ipython",
    "version": 3
   },
   "file_extension": ".py",
   "mimetype": "text/x-python",
   "name": "python",
   "nbconvert_exporter": "python",
   "pygments_lexer": "ipython3",
   "version": "3.10.12"
  }
 },
 "nbformat": 4,
 "nbformat_minor": 5
}
